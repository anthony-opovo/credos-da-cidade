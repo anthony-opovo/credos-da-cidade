{
 "cells": [
  {
   "cell_type": "code",
   "execution_count": 1,
   "id": "592cbf01",
   "metadata": {},
   "outputs": [],
   "source": [
    "import pandas as pd\n",
    "import googlemaps"
   ]
  },
  {
   "cell_type": "code",
   "execution_count": 2,
   "id": "e191cbcb",
   "metadata": {},
   "outputs": [],
   "source": [
    "gmaps = googlemaps.Client(key='chave_google_aqui')"
   ]
  },
  {
   "cell_type": "code",
   "execution_count": 5,
   "id": "6545e0f1",
   "metadata": {},
   "outputs": [],
   "source": [
    "path = '../bases_originais/datasetSEFIN.csv'"
   ]
  },
  {
   "cell_type": "code",
   "execution_count": 6,
   "id": "2c506111",
   "metadata": {},
   "outputs": [
    {
     "data": {
      "text/html": [
       "<div>\n",
       "<style scoped>\n",
       "    .dataframe tbody tr th:only-of-type {\n",
       "        vertical-align: middle;\n",
       "    }\n",
       "\n",
       "    .dataframe tbody tr th {\n",
       "        vertical-align: top;\n",
       "    }\n",
       "\n",
       "    .dataframe thead th {\n",
       "        text-align: right;\n",
       "    }\n",
       "</style>\n",
       "<table border=\"1\" class=\"dataframe\">\n",
       "  <thead>\n",
       "    <tr style=\"text-align: right;\">\n",
       "      <th></th>\n",
       "      <th>INSCRICAO</th>\n",
       "      <th>ENDEREÇO IMOVEL</th>\n",
       "      <th>CONTRIBUINTE</th>\n",
       "      <th>CLASSIFICACAO</th>\n",
       "      <th>BENEFICIO</th>\n",
       "    </tr>\n",
       "  </thead>\n",
       "  <tbody>\n",
       "    <tr>\n",
       "      <th>0</th>\n",
       "      <td>230390-6</td>\n",
       "      <td>R  ELVIRA PINHO 220  MONTESE FORTALEZA - CE CE...</td>\n",
       "      <td>ABIJCSUD</td>\n",
       "      <td>Imunidade</td>\n",
       "      <td>Templos Religiosos</td>\n",
       "    </tr>\n",
       "    <tr>\n",
       "      <th>1</th>\n",
       "      <td>210264-1</td>\n",
       "      <td>R  JOSE FREITAS DA SILVA   SN  BELA VISTA FORT...</td>\n",
       "      <td>ACAO SOCIAL DA PAROQUIA DE SAO RAIMUNDO ASPAR</td>\n",
       "      <td>Imunidade</td>\n",
       "      <td>Templos Religiosos</td>\n",
       "    </tr>\n",
       "    <tr>\n",
       "      <th>2</th>\n",
       "      <td>7945-6</td>\n",
       "      <td>R  FRANCISCA CLOTILDE 826  RODOLFO TEÓFILO FOR...</td>\n",
       "      <td>ACAO SOCIAL DA PAROQUIA DE SAO RAIMUNDO ASPAR</td>\n",
       "      <td>Imunidade</td>\n",
       "      <td>Templos Religiosos</td>\n",
       "    </tr>\n",
       "    <tr>\n",
       "      <th>3</th>\n",
       "      <td>8615-0</td>\n",
       "      <td>R  DELMIRO DE FARIAS 1900 QUADRA 50A RODOLFO T...</td>\n",
       "      <td>ALFA 2 SPE EMPREENDIMENTO IMOBILIARIO LTDA</td>\n",
       "      <td>Imunidade</td>\n",
       "      <td>Templos Religiosos</td>\n",
       "    </tr>\n",
       "    <tr>\n",
       "      <th>4</th>\n",
       "      <td>606258-0</td>\n",
       "      <td>R  ROSA CRUZ   VAZIO MARAPONGA FORTALEZA - CE ...</td>\n",
       "      <td>ANTIGA E MISTICA ORD ROSAE CRUCIS AMORC GLJL P...</td>\n",
       "      <td>Imunidade</td>\n",
       "      <td>Templos Religiosos</td>\n",
       "    </tr>\n",
       "    <tr>\n",
       "      <th>...</th>\n",
       "      <td>...</td>\n",
       "      <td>...</td>\n",
       "      <td>...</td>\n",
       "      <td>...</td>\n",
       "      <td>...</td>\n",
       "    </tr>\n",
       "    <tr>\n",
       "      <th>814</th>\n",
       "      <td>70719-8</td>\n",
       "      <td>R  JAIME BENEVOLO 259  CENTRO FORTALEZA - CE C...</td>\n",
       "      <td>UNIAO NORTE BRASILEIRA DE EDUCACAO E CULTURA</td>\n",
       "      <td>Imunidade</td>\n",
       "      <td>Templos Religiosos</td>\n",
       "    </tr>\n",
       "    <tr>\n",
       "      <th>815</th>\n",
       "      <td>70822-4</td>\n",
       "      <td>AV DUQ DE CAXIAS 101  CENTRO FORTALEZA - CE CE...</td>\n",
       "      <td>UNIAO NORTE BRASILEIRA DE EDUCACAO E CULTURA</td>\n",
       "      <td>Imunidade</td>\n",
       "      <td>Templos Religiosos</td>\n",
       "    </tr>\n",
       "    <tr>\n",
       "      <th>816</th>\n",
       "      <td>67961-5</td>\n",
       "      <td>R PRC ISABEL 290  CENTRO FORTALEZA - CE CEP:60...</td>\n",
       "      <td>1 IGREJA PRESBITERIANA INDEPENDENTE DE FORTALEZA</td>\n",
       "      <td>Imunidade</td>\n",
       "      <td>Templos Religiosos</td>\n",
       "    </tr>\n",
       "    <tr>\n",
       "      <th>817</th>\n",
       "      <td>110662-7</td>\n",
       "      <td>R  WALTER POMPEU 760  CRISTO REDENTOR FORTALEZ...</td>\n",
       "      <td>1 IGREJA PRESBITERIANA INDEPENDENTE DE FORTALEZA</td>\n",
       "      <td>Imunidade</td>\n",
       "      <td>Templos Religiosos</td>\n",
       "    </tr>\n",
       "    <tr>\n",
       "      <th>818</th>\n",
       "      <td>180284-4</td>\n",
       "      <td>R CAP OLAVO 324  ALTO DA BALANÇA FORTALEZA - C...</td>\n",
       "      <td>1 IGREJA PRESBITERIANA INDEPENDENTE DE FORTALEZA</td>\n",
       "      <td>Imunidade</td>\n",
       "      <td>Templos Religiosos</td>\n",
       "    </tr>\n",
       "  </tbody>\n",
       "</table>\n",
       "<p>819 rows × 5 columns</p>\n",
       "</div>"
      ],
      "text/plain": [
       "    INSCRICAO                                    ENDEREÇO IMOVEL  \\\n",
       "0    230390-6  R  ELVIRA PINHO 220  MONTESE FORTALEZA - CE CE...   \n",
       "1    210264-1  R  JOSE FREITAS DA SILVA   SN  BELA VISTA FORT...   \n",
       "2      7945-6  R  FRANCISCA CLOTILDE 826  RODOLFO TEÓFILO FOR...   \n",
       "3      8615-0  R  DELMIRO DE FARIAS 1900 QUADRA 50A RODOLFO T...   \n",
       "4    606258-0  R  ROSA CRUZ   VAZIO MARAPONGA FORTALEZA - CE ...   \n",
       "..        ...                                                ...   \n",
       "814   70719-8  R  JAIME BENEVOLO 259  CENTRO FORTALEZA - CE C...   \n",
       "815   70822-4  AV DUQ DE CAXIAS 101  CENTRO FORTALEZA - CE CE...   \n",
       "816   67961-5  R PRC ISABEL 290  CENTRO FORTALEZA - CE CEP:60...   \n",
       "817  110662-7  R  WALTER POMPEU 760  CRISTO REDENTOR FORTALEZ...   \n",
       "818  180284-4  R CAP OLAVO 324  ALTO DA BALANÇA FORTALEZA - C...   \n",
       "\n",
       "                                          CONTRIBUINTE CLASSIFICACAO  \\\n",
       "0                                             ABIJCSUD     Imunidade   \n",
       "1        ACAO SOCIAL DA PAROQUIA DE SAO RAIMUNDO ASPAR     Imunidade   \n",
       "2        ACAO SOCIAL DA PAROQUIA DE SAO RAIMUNDO ASPAR     Imunidade   \n",
       "3           ALFA 2 SPE EMPREENDIMENTO IMOBILIARIO LTDA     Imunidade   \n",
       "4    ANTIGA E MISTICA ORD ROSAE CRUCIS AMORC GLJL P...     Imunidade   \n",
       "..                                                 ...           ...   \n",
       "814       UNIAO NORTE BRASILEIRA DE EDUCACAO E CULTURA     Imunidade   \n",
       "815       UNIAO NORTE BRASILEIRA DE EDUCACAO E CULTURA     Imunidade   \n",
       "816   1 IGREJA PRESBITERIANA INDEPENDENTE DE FORTALEZA     Imunidade   \n",
       "817   1 IGREJA PRESBITERIANA INDEPENDENTE DE FORTALEZA     Imunidade   \n",
       "818   1 IGREJA PRESBITERIANA INDEPENDENTE DE FORTALEZA     Imunidade   \n",
       "\n",
       "              BENEFICIO  \n",
       "0    Templos Religiosos  \n",
       "1    Templos Religiosos  \n",
       "2    Templos Religiosos  \n",
       "3    Templos Religiosos  \n",
       "4    Templos Religiosos  \n",
       "..                  ...  \n",
       "814  Templos Religiosos  \n",
       "815  Templos Religiosos  \n",
       "816  Templos Religiosos  \n",
       "817  Templos Religiosos  \n",
       "818  Templos Religiosos  \n",
       "\n",
       "[819 rows x 5 columns]"
      ]
     },
     "execution_count": 6,
     "metadata": {},
     "output_type": "execute_result"
    }
   ],
   "source": [
    "dataframe = pd.read_csv(path)\n",
    "dataframe"
   ]
  },
  {
   "cell_type": "code",
   "execution_count": 7,
   "id": "e5947788",
   "metadata": {},
   "outputs": [
    {
     "data": {
      "text/plain": [
       "195678-7    1\n",
       "66709-9     1\n",
       "208994-7    1\n",
       "297684-6    1\n",
       "44361-1     1\n",
       "           ..\n",
       "271621-6    1\n",
       "45027-8     1\n",
       "133881-1    1\n",
       "298974-3    1\n",
       "146018-8    1\n",
       "Name: INSCRICAO, Length: 819, dtype: int64"
      ]
     },
     "execution_count": 7,
     "metadata": {},
     "output_type": "execute_result"
    }
   ],
   "source": [
    "dataframe['INSCRICAO'].value_counts()"
   ]
  },
  {
   "cell_type": "markdown",
   "id": "6c31f2c6",
   "metadata": {},
   "source": [
    "# Consulta local via Google maps API :"
   ]
  },
  {
   "cell_type": "code",
   "execution_count": 8,
   "id": "28a932c3",
   "metadata": {
    "scrolled": true
   },
   "outputs": [],
   "source": [
    "dataframe['geocode_result'] = dataframe.apply(lambda x: gmaps.geocode(x['ENDEREÇO IMOVEL']), axis=1)"
   ]
  },
  {
   "cell_type": "code",
   "execution_count": 9,
   "id": "36d58aee",
   "metadata": {},
   "outputs": [],
   "source": [
    "dataframe.to_csv('../bases_tratadas/datasetSEFIN_geocodGMAPS.csv')"
   ]
  },
  {
   "cell_type": "markdown",
   "id": "80c566b2",
   "metadata": {},
   "source": [
    "# Carregando csv com as consultas do GMAPS"
   ]
  },
  {
   "cell_type": "code",
   "execution_count": 10,
   "id": "d647158d",
   "metadata": {},
   "outputs": [
    {
     "data": {
      "text/html": [
       "<div>\n",
       "<style scoped>\n",
       "    .dataframe tbody tr th:only-of-type {\n",
       "        vertical-align: middle;\n",
       "    }\n",
       "\n",
       "    .dataframe tbody tr th {\n",
       "        vertical-align: top;\n",
       "    }\n",
       "\n",
       "    .dataframe thead th {\n",
       "        text-align: right;\n",
       "    }\n",
       "</style>\n",
       "<table border=\"1\" class=\"dataframe\">\n",
       "  <thead>\n",
       "    <tr style=\"text-align: right;\">\n",
       "      <th></th>\n",
       "      <th>Unnamed: 0</th>\n",
       "      <th>INSCRICAO</th>\n",
       "      <th>ENDEREÇO IMOVEL</th>\n",
       "      <th>CONTRIBUINTE</th>\n",
       "      <th>CLASSIFICACAO</th>\n",
       "      <th>BENEFICIO</th>\n",
       "      <th>geocode_result</th>\n",
       "    </tr>\n",
       "  </thead>\n",
       "  <tbody>\n",
       "    <tr>\n",
       "      <th>0</th>\n",
       "      <td>0</td>\n",
       "      <td>230390-6</td>\n",
       "      <td>R  ELVIRA PINHO 220  MONTESE FORTALEZA - CE CE...</td>\n",
       "      <td>ABIJCSUD</td>\n",
       "      <td>Imunidade</td>\n",
       "      <td>Templos Religiosos</td>\n",
       "      <td>[{'address_components': [{'long_name': '220', ...</td>\n",
       "    </tr>\n",
       "    <tr>\n",
       "      <th>1</th>\n",
       "      <td>1</td>\n",
       "      <td>210264-1</td>\n",
       "      <td>R  JOSE FREITAS DA SILVA   SN  BELA VISTA FORT...</td>\n",
       "      <td>ACAO SOCIAL DA PAROQUIA DE SAO RAIMUNDO ASPAR</td>\n",
       "      <td>Imunidade</td>\n",
       "      <td>Templos Religiosos</td>\n",
       "      <td>[{'address_components': [{'long_name': 'Rua Jo...</td>\n",
       "    </tr>\n",
       "    <tr>\n",
       "      <th>2</th>\n",
       "      <td>2</td>\n",
       "      <td>7945-6</td>\n",
       "      <td>R  FRANCISCA CLOTILDE 826  RODOLFO TEÓFILO FOR...</td>\n",
       "      <td>ACAO SOCIAL DA PAROQUIA DE SAO RAIMUNDO ASPAR</td>\n",
       "      <td>Imunidade</td>\n",
       "      <td>Templos Religiosos</td>\n",
       "      <td>[{'address_components': [{'long_name': '826', ...</td>\n",
       "    </tr>\n",
       "    <tr>\n",
       "      <th>3</th>\n",
       "      <td>3</td>\n",
       "      <td>8615-0</td>\n",
       "      <td>R  DELMIRO DE FARIAS 1900 QUADRA 50A RODOLFO T...</td>\n",
       "      <td>ALFA 2 SPE EMPREENDIMENTO IMOBILIARIO LTDA</td>\n",
       "      <td>Imunidade</td>\n",
       "      <td>Templos Religiosos</td>\n",
       "      <td>[{'address_components': [{'long_name': 'QUADRA...</td>\n",
       "    </tr>\n",
       "    <tr>\n",
       "      <th>4</th>\n",
       "      <td>4</td>\n",
       "      <td>606258-0</td>\n",
       "      <td>R  ROSA CRUZ   VAZIO MARAPONGA FORTALEZA - CE ...</td>\n",
       "      <td>ANTIGA E MISTICA ORD ROSAE CRUCIS AMORC GLJL P...</td>\n",
       "      <td>Imunidade</td>\n",
       "      <td>Templos Religiosos</td>\n",
       "      <td>[{'address_components': [{'long_name': 'Rua Ro...</td>\n",
       "    </tr>\n",
       "  </tbody>\n",
       "</table>\n",
       "</div>"
      ],
      "text/plain": [
       "   Unnamed: 0 INSCRICAO                                    ENDEREÇO IMOVEL  \\\n",
       "0           0  230390-6  R  ELVIRA PINHO 220  MONTESE FORTALEZA - CE CE...   \n",
       "1           1  210264-1  R  JOSE FREITAS DA SILVA   SN  BELA VISTA FORT...   \n",
       "2           2    7945-6  R  FRANCISCA CLOTILDE 826  RODOLFO TEÓFILO FOR...   \n",
       "3           3    8615-0  R  DELMIRO DE FARIAS 1900 QUADRA 50A RODOLFO T...   \n",
       "4           4  606258-0  R  ROSA CRUZ   VAZIO MARAPONGA FORTALEZA - CE ...   \n",
       "\n",
       "                                        CONTRIBUINTE CLASSIFICACAO  \\\n",
       "0                                           ABIJCSUD     Imunidade   \n",
       "1      ACAO SOCIAL DA PAROQUIA DE SAO RAIMUNDO ASPAR     Imunidade   \n",
       "2      ACAO SOCIAL DA PAROQUIA DE SAO RAIMUNDO ASPAR     Imunidade   \n",
       "3         ALFA 2 SPE EMPREENDIMENTO IMOBILIARIO LTDA     Imunidade   \n",
       "4  ANTIGA E MISTICA ORD ROSAE CRUCIS AMORC GLJL P...     Imunidade   \n",
       "\n",
       "            BENEFICIO                                     geocode_result  \n",
       "0  Templos Religiosos  [{'address_components': [{'long_name': '220', ...  \n",
       "1  Templos Religiosos  [{'address_components': [{'long_name': 'Rua Jo...  \n",
       "2  Templos Religiosos  [{'address_components': [{'long_name': '826', ...  \n",
       "3  Templos Religiosos  [{'address_components': [{'long_name': 'QUADRA...  \n",
       "4  Templos Religiosos  [{'address_components': [{'long_name': 'Rua Ro...  "
      ]
     },
     "execution_count": 10,
     "metadata": {},
     "output_type": "execute_result"
    }
   ],
   "source": [
    "dataframe = pd.read_csv('../bases_tratadas/datasetSEFIN_geocodGMAPS.csv')\n",
    "dataframe.head()"
   ]
  },
  {
   "cell_type": "code",
   "execution_count": 11,
   "id": "6a43ec1b",
   "metadata": {},
   "outputs": [
    {
     "data": {
      "text/html": [
       "<div>\n",
       "<style scoped>\n",
       "    .dataframe tbody tr th:only-of-type {\n",
       "        vertical-align: middle;\n",
       "    }\n",
       "\n",
       "    .dataframe tbody tr th {\n",
       "        vertical-align: top;\n",
       "    }\n",
       "\n",
       "    .dataframe thead th {\n",
       "        text-align: right;\n",
       "    }\n",
       "</style>\n",
       "<table border=\"1\" class=\"dataframe\">\n",
       "  <thead>\n",
       "    <tr style=\"text-align: right;\">\n",
       "      <th></th>\n",
       "      <th>Unnamed: 0</th>\n",
       "      <th>INSCRICAO</th>\n",
       "      <th>ENDEREÇO IMOVEL</th>\n",
       "      <th>CONTRIBUINTE</th>\n",
       "      <th>CLASSIFICACAO</th>\n",
       "      <th>BENEFICIO</th>\n",
       "      <th>geocode_result</th>\n",
       "    </tr>\n",
       "  </thead>\n",
       "  <tbody>\n",
       "    <tr>\n",
       "      <th>0</th>\n",
       "      <td>0</td>\n",
       "      <td>230390-6</td>\n",
       "      <td>R  ELVIRA PINHO 220  MONTESE FORTALEZA - CE CE...</td>\n",
       "      <td>ABIJCSUD</td>\n",
       "      <td>Imunidade</td>\n",
       "      <td>Templos Religiosos</td>\n",
       "      <td>[{'address_components': [{'long_name': '220', ...</td>\n",
       "    </tr>\n",
       "    <tr>\n",
       "      <th>1</th>\n",
       "      <td>1</td>\n",
       "      <td>210264-1</td>\n",
       "      <td>R  JOSE FREITAS DA SILVA   SN  BELA VISTA FORT...</td>\n",
       "      <td>ACAO SOCIAL DA PAROQUIA DE SAO RAIMUNDO ASPAR</td>\n",
       "      <td>Imunidade</td>\n",
       "      <td>Templos Religiosos</td>\n",
       "      <td>[{'address_components': [{'long_name': 'Rua Jo...</td>\n",
       "    </tr>\n",
       "    <tr>\n",
       "      <th>2</th>\n",
       "      <td>2</td>\n",
       "      <td>7945-6</td>\n",
       "      <td>R  FRANCISCA CLOTILDE 826  RODOLFO TEÓFILO FOR...</td>\n",
       "      <td>ACAO SOCIAL DA PAROQUIA DE SAO RAIMUNDO ASPAR</td>\n",
       "      <td>Imunidade</td>\n",
       "      <td>Templos Religiosos</td>\n",
       "      <td>[{'address_components': [{'long_name': '826', ...</td>\n",
       "    </tr>\n",
       "    <tr>\n",
       "      <th>3</th>\n",
       "      <td>3</td>\n",
       "      <td>8615-0</td>\n",
       "      <td>R  DELMIRO DE FARIAS 1900 QUADRA 50A RODOLFO T...</td>\n",
       "      <td>ALFA 2 SPE EMPREENDIMENTO IMOBILIARIO LTDA</td>\n",
       "      <td>Imunidade</td>\n",
       "      <td>Templos Religiosos</td>\n",
       "      <td>[{'address_components': [{'long_name': 'QUADRA...</td>\n",
       "    </tr>\n",
       "    <tr>\n",
       "      <th>4</th>\n",
       "      <td>4</td>\n",
       "      <td>606258-0</td>\n",
       "      <td>R  ROSA CRUZ   VAZIO MARAPONGA FORTALEZA - CE ...</td>\n",
       "      <td>ANTIGA E MISTICA ORD ROSAE CRUCIS AMORC GLJL P...</td>\n",
       "      <td>Imunidade</td>\n",
       "      <td>Templos Religiosos</td>\n",
       "      <td>[{'address_components': [{'long_name': 'Rua Ro...</td>\n",
       "    </tr>\n",
       "    <tr>\n",
       "      <th>...</th>\n",
       "      <td>...</td>\n",
       "      <td>...</td>\n",
       "      <td>...</td>\n",
       "      <td>...</td>\n",
       "      <td>...</td>\n",
       "      <td>...</td>\n",
       "      <td>...</td>\n",
       "    </tr>\n",
       "    <tr>\n",
       "      <th>814</th>\n",
       "      <td>814</td>\n",
       "      <td>70719-8</td>\n",
       "      <td>R  JAIME BENEVOLO 259  CENTRO FORTALEZA - CE C...</td>\n",
       "      <td>UNIAO NORTE BRASILEIRA DE EDUCACAO E CULTURA</td>\n",
       "      <td>Imunidade</td>\n",
       "      <td>Templos Religiosos</td>\n",
       "      <td>[{'address_components': [{'long_name': '259', ...</td>\n",
       "    </tr>\n",
       "    <tr>\n",
       "      <th>815</th>\n",
       "      <td>815</td>\n",
       "      <td>70822-4</td>\n",
       "      <td>AV DUQ DE CAXIAS 101  CENTRO FORTALEZA - CE CE...</td>\n",
       "      <td>UNIAO NORTE BRASILEIRA DE EDUCACAO E CULTURA</td>\n",
       "      <td>Imunidade</td>\n",
       "      <td>Templos Religiosos</td>\n",
       "      <td>[{'address_components': [{'long_name': '101', ...</td>\n",
       "    </tr>\n",
       "    <tr>\n",
       "      <th>816</th>\n",
       "      <td>816</td>\n",
       "      <td>67961-5</td>\n",
       "      <td>R PRC ISABEL 290  CENTRO FORTALEZA - CE CEP:60...</td>\n",
       "      <td>1 IGREJA PRESBITERIANA INDEPENDENTE DE FORTALEZA</td>\n",
       "      <td>Imunidade</td>\n",
       "      <td>Templos Religiosos</td>\n",
       "      <td>[{'address_components': [{'long_name': '290', ...</td>\n",
       "    </tr>\n",
       "    <tr>\n",
       "      <th>817</th>\n",
       "      <td>817</td>\n",
       "      <td>110662-7</td>\n",
       "      <td>R  WALTER POMPEU 760  CRISTO REDENTOR FORTALEZ...</td>\n",
       "      <td>1 IGREJA PRESBITERIANA INDEPENDENTE DE FORTALEZA</td>\n",
       "      <td>Imunidade</td>\n",
       "      <td>Templos Religiosos</td>\n",
       "      <td>[{'address_components': [{'long_name': '760', ...</td>\n",
       "    </tr>\n",
       "    <tr>\n",
       "      <th>818</th>\n",
       "      <td>818</td>\n",
       "      <td>180284-4</td>\n",
       "      <td>R CAP OLAVO 324  ALTO DA BALANÇA FORTALEZA - C...</td>\n",
       "      <td>1 IGREJA PRESBITERIANA INDEPENDENTE DE FORTALEZA</td>\n",
       "      <td>Imunidade</td>\n",
       "      <td>Templos Religiosos</td>\n",
       "      <td>[{'address_components': [{'long_name': '324', ...</td>\n",
       "    </tr>\n",
       "  </tbody>\n",
       "</table>\n",
       "<p>819 rows × 7 columns</p>\n",
       "</div>"
      ],
      "text/plain": [
       "     Unnamed: 0 INSCRICAO                                    ENDEREÇO IMOVEL  \\\n",
       "0             0  230390-6  R  ELVIRA PINHO 220  MONTESE FORTALEZA - CE CE...   \n",
       "1             1  210264-1  R  JOSE FREITAS DA SILVA   SN  BELA VISTA FORT...   \n",
       "2             2    7945-6  R  FRANCISCA CLOTILDE 826  RODOLFO TEÓFILO FOR...   \n",
       "3             3    8615-0  R  DELMIRO DE FARIAS 1900 QUADRA 50A RODOLFO T...   \n",
       "4             4  606258-0  R  ROSA CRUZ   VAZIO MARAPONGA FORTALEZA - CE ...   \n",
       "..          ...       ...                                                ...   \n",
       "814         814   70719-8  R  JAIME BENEVOLO 259  CENTRO FORTALEZA - CE C...   \n",
       "815         815   70822-4  AV DUQ DE CAXIAS 101  CENTRO FORTALEZA - CE CE...   \n",
       "816         816   67961-5  R PRC ISABEL 290  CENTRO FORTALEZA - CE CEP:60...   \n",
       "817         817  110662-7  R  WALTER POMPEU 760  CRISTO REDENTOR FORTALEZ...   \n",
       "818         818  180284-4  R CAP OLAVO 324  ALTO DA BALANÇA FORTALEZA - C...   \n",
       "\n",
       "                                          CONTRIBUINTE CLASSIFICACAO  \\\n",
       "0                                             ABIJCSUD     Imunidade   \n",
       "1        ACAO SOCIAL DA PAROQUIA DE SAO RAIMUNDO ASPAR     Imunidade   \n",
       "2        ACAO SOCIAL DA PAROQUIA DE SAO RAIMUNDO ASPAR     Imunidade   \n",
       "3           ALFA 2 SPE EMPREENDIMENTO IMOBILIARIO LTDA     Imunidade   \n",
       "4    ANTIGA E MISTICA ORD ROSAE CRUCIS AMORC GLJL P...     Imunidade   \n",
       "..                                                 ...           ...   \n",
       "814       UNIAO NORTE BRASILEIRA DE EDUCACAO E CULTURA     Imunidade   \n",
       "815       UNIAO NORTE BRASILEIRA DE EDUCACAO E CULTURA     Imunidade   \n",
       "816   1 IGREJA PRESBITERIANA INDEPENDENTE DE FORTALEZA     Imunidade   \n",
       "817   1 IGREJA PRESBITERIANA INDEPENDENTE DE FORTALEZA     Imunidade   \n",
       "818   1 IGREJA PRESBITERIANA INDEPENDENTE DE FORTALEZA     Imunidade   \n",
       "\n",
       "              BENEFICIO                                     geocode_result  \n",
       "0    Templos Religiosos  [{'address_components': [{'long_name': '220', ...  \n",
       "1    Templos Religiosos  [{'address_components': [{'long_name': 'Rua Jo...  \n",
       "2    Templos Religiosos  [{'address_components': [{'long_name': '826', ...  \n",
       "3    Templos Religiosos  [{'address_components': [{'long_name': 'QUADRA...  \n",
       "4    Templos Religiosos  [{'address_components': [{'long_name': 'Rua Ro...  \n",
       "..                  ...                                                ...  \n",
       "814  Templos Religiosos  [{'address_components': [{'long_name': '259', ...  \n",
       "815  Templos Religiosos  [{'address_components': [{'long_name': '101', ...  \n",
       "816  Templos Religiosos  [{'address_components': [{'long_name': '290', ...  \n",
       "817  Templos Religiosos  [{'address_components': [{'long_name': '760', ...  \n",
       "818  Templos Religiosos  [{'address_components': [{'long_name': '324', ...  \n",
       "\n",
       "[819 rows x 7 columns]"
      ]
     },
     "execution_count": 11,
     "metadata": {},
     "output_type": "execute_result"
    }
   ],
   "source": [
    "dataframe"
   ]
  },
  {
   "cell_type": "code",
   "execution_count": 12,
   "id": "ca98050e",
   "metadata": {},
   "outputs": [],
   "source": [
    "dataframe['geocode_result'] = dataframe['geocode_result'].apply(eval)"
   ]
  },
  {
   "cell_type": "code",
   "execution_count": 13,
   "id": "cef984b4",
   "metadata": {},
   "outputs": [],
   "source": [
    "dataframe['len_busca_google'] = dataframe['geocode_result'].apply(lambda x: len(x))"
   ]
  },
  {
   "cell_type": "code",
   "execution_count": 14,
   "id": "ebec3ed0",
   "metadata": {},
   "outputs": [
    {
     "data": {
      "text/plain": [
       "1    804\n",
       "2     13\n",
       "0      1\n",
       "3      1\n",
       "Name: len_busca_google, dtype: int64"
      ]
     },
     "execution_count": 14,
     "metadata": {},
     "output_type": "execute_result"
    }
   ],
   "source": [
    "dataframe['len_busca_google'].value_counts()"
   ]
  },
  {
   "cell_type": "code",
   "execution_count": 15,
   "id": "5bb9ede0",
   "metadata": {},
   "outputs": [
    {
     "data": {
      "text/html": [
       "<div>\n",
       "<style scoped>\n",
       "    .dataframe tbody tr th:only-of-type {\n",
       "        vertical-align: middle;\n",
       "    }\n",
       "\n",
       "    .dataframe tbody tr th {\n",
       "        vertical-align: top;\n",
       "    }\n",
       "\n",
       "    .dataframe thead th {\n",
       "        text-align: right;\n",
       "    }\n",
       "</style>\n",
       "<table border=\"1\" class=\"dataframe\">\n",
       "  <thead>\n",
       "    <tr style=\"text-align: right;\">\n",
       "      <th></th>\n",
       "      <th>Unnamed: 0</th>\n",
       "      <th>INSCRICAO</th>\n",
       "      <th>ENDEREÇO IMOVEL</th>\n",
       "      <th>CONTRIBUINTE</th>\n",
       "      <th>CLASSIFICACAO</th>\n",
       "      <th>BENEFICIO</th>\n",
       "      <th>geocode_result</th>\n",
       "      <th>len_busca_google</th>\n",
       "    </tr>\n",
       "  </thead>\n",
       "  <tbody>\n",
       "    <tr>\n",
       "      <th>266</th>\n",
       "      <td>266</td>\n",
       "      <td>8668-1</td>\n",
       "      <td>R PAT SAMUEL MUNGUBA 1000  A RODOLFO TEÓFILO F...</td>\n",
       "      <td>CONGREGACAO CRISTA NO BRASIL</td>\n",
       "      <td>Imunidade</td>\n",
       "      <td>Templos Religiosos</td>\n",
       "      <td>[]</td>\n",
       "      <td>0</td>\n",
       "    </tr>\n",
       "  </tbody>\n",
       "</table>\n",
       "</div>"
      ],
      "text/plain": [
       "     Unnamed: 0 INSCRICAO                                    ENDEREÇO IMOVEL  \\\n",
       "266         266    8668-1  R PAT SAMUEL MUNGUBA 1000  A RODOLFO TEÓFILO F...   \n",
       "\n",
       "                     CONTRIBUINTE CLASSIFICACAO           BENEFICIO  \\\n",
       "266  CONGREGACAO CRISTA NO BRASIL     Imunidade  Templos Religiosos   \n",
       "\n",
       "    geocode_result  len_busca_google  \n",
       "266             []                 0  "
      ]
     },
     "execution_count": 15,
     "metadata": {},
     "output_type": "execute_result"
    }
   ],
   "source": [
    "dataframe.loc[dataframe.len_busca_google == 0]"
   ]
  },
  {
   "cell_type": "code",
   "execution_count": 16,
   "id": "d20de562",
   "metadata": {},
   "outputs": [
    {
     "data": {
      "text/plain": [
       "Unnamed: 0                                                        266\n",
       "INSCRICAO                                                      8668-1\n",
       "ENDEREÇO IMOVEL     R PASTOR SAMUEL MUNGUBA 1000  A RODOLFO TEÓFIL...\n",
       "CONTRIBUINTE                             CONGREGACAO CRISTA NO BRASIL\n",
       "CLASSIFICACAO                                               Imunidade\n",
       "BENEFICIO                                          Templos Religiosos\n",
       "geocode_result      [{'address_components': [{'long_name': '1000',...\n",
       "len_busca_google                                                    1\n",
       "Name: 266, dtype: object"
      ]
     },
     "execution_count": 16,
     "metadata": {},
     "output_type": "execute_result"
    }
   ],
   "source": [
    "dataframe.loc[266, ['ENDEREÇO IMOVEL']] = ['R PASTOR SAMUEL MUNGUBA 1000  A RODOLFO TEÓFILO FORTALEZA - CE CEP:60430372']\n",
    "dataframe.loc[266, ['geocode_result']] = [gmaps.geocode(dataframe.loc[266]['ENDEREÇO IMOVEL'])]\n",
    "dataframe.loc[266, ['len_busca_google']] = [len(dataframe.loc[266]['geocode_result'])]\n",
    "\n",
    "dataframe.loc[266]"
   ]
  },
  {
   "cell_type": "code",
   "execution_count": 17,
   "id": "69d3d3ad",
   "metadata": {},
   "outputs": [
    {
     "data": {
      "text/html": [
       "<div>\n",
       "<style scoped>\n",
       "    .dataframe tbody tr th:only-of-type {\n",
       "        vertical-align: middle;\n",
       "    }\n",
       "\n",
       "    .dataframe tbody tr th {\n",
       "        vertical-align: top;\n",
       "    }\n",
       "\n",
       "    .dataframe thead th {\n",
       "        text-align: right;\n",
       "    }\n",
       "</style>\n",
       "<table border=\"1\" class=\"dataframe\">\n",
       "  <thead>\n",
       "    <tr style=\"text-align: right;\">\n",
       "      <th></th>\n",
       "      <th>Unnamed: 0</th>\n",
       "      <th>INSCRICAO</th>\n",
       "      <th>ENDEREÇO IMOVEL</th>\n",
       "      <th>CONTRIBUINTE</th>\n",
       "      <th>CLASSIFICACAO</th>\n",
       "      <th>BENEFICIO</th>\n",
       "      <th>geocode_result</th>\n",
       "      <th>len_busca_google</th>\n",
       "    </tr>\n",
       "  </thead>\n",
       "  <tbody>\n",
       "    <tr>\n",
       "      <th>389</th>\n",
       "      <td>389</td>\n",
       "      <td>116531-3</td>\n",
       "      <td>AV  C (CONJ. CEARA II) 535  CONJUNTO CEARÁ I F...</td>\n",
       "      <td>IGREJA ASSEMBLEIA DE DEUS NOVO VIVER</td>\n",
       "      <td>Imunidade</td>\n",
       "      <td>Templos Religiosos</td>\n",
       "      <td>[{'address_components': [{'long_name': 'Avenid...</td>\n",
       "      <td>3</td>\n",
       "    </tr>\n",
       "  </tbody>\n",
       "</table>\n",
       "</div>"
      ],
      "text/plain": [
       "     Unnamed: 0 INSCRICAO                                    ENDEREÇO IMOVEL  \\\n",
       "389         389  116531-3  AV  C (CONJ. CEARA II) 535  CONJUNTO CEARÁ I F...   \n",
       "\n",
       "                             CONTRIBUINTE CLASSIFICACAO           BENEFICIO  \\\n",
       "389  IGREJA ASSEMBLEIA DE DEUS NOVO VIVER     Imunidade  Templos Religiosos   \n",
       "\n",
       "                                        geocode_result  len_busca_google  \n",
       "389  [{'address_components': [{'long_name': 'Avenid...                 3  "
      ]
     },
     "execution_count": 17,
     "metadata": {},
     "output_type": "execute_result"
    }
   ],
   "source": [
    "dataframe.loc[dataframe.len_busca_google == 3]"
   ]
  },
  {
   "cell_type": "code",
   "execution_count": 18,
   "id": "356db374",
   "metadata": {},
   "outputs": [
    {
     "data": {
      "text/html": [
       "<div>\n",
       "<style scoped>\n",
       "    .dataframe tbody tr th:only-of-type {\n",
       "        vertical-align: middle;\n",
       "    }\n",
       "\n",
       "    .dataframe tbody tr th {\n",
       "        vertical-align: top;\n",
       "    }\n",
       "\n",
       "    .dataframe thead th {\n",
       "        text-align: right;\n",
       "    }\n",
       "</style>\n",
       "<table border=\"1\" class=\"dataframe\">\n",
       "  <thead>\n",
       "    <tr style=\"text-align: right;\">\n",
       "      <th></th>\n",
       "      <th>Unnamed: 0</th>\n",
       "      <th>INSCRICAO</th>\n",
       "      <th>ENDEREÇO IMOVEL</th>\n",
       "      <th>CONTRIBUINTE</th>\n",
       "      <th>CLASSIFICACAO</th>\n",
       "      <th>BENEFICIO</th>\n",
       "      <th>geocode_result</th>\n",
       "      <th>len_busca_google</th>\n",
       "    </tr>\n",
       "  </thead>\n",
       "  <tbody>\n",
       "    <tr>\n",
       "      <th>43</th>\n",
       "      <td>43</td>\n",
       "      <td>68899-1</td>\n",
       "      <td>AV  FILOMENO GOMES   SN MOURA BRASIL FORTALEZA...</td>\n",
       "      <td>ARQUIDIOCESE DE FORTALEZA</td>\n",
       "      <td>Imunidade</td>\n",
       "      <td>Templos Religiosos</td>\n",
       "      <td>[{'address_components': [{'long_name': '430', ...</td>\n",
       "      <td>2</td>\n",
       "    </tr>\n",
       "    <tr>\n",
       "      <th>84</th>\n",
       "      <td>84</td>\n",
       "      <td>582158-4</td>\n",
       "      <td>R  VIA COLETORA A PQ SAO MATEUS 785  MONDUBIM ...</td>\n",
       "      <td>ASSEMBLEIA DE DEUS RIOS DE AGUA VIVA</td>\n",
       "      <td>Imunidade</td>\n",
       "      <td>Templos Religiosos</td>\n",
       "      <td>[{'address_components': [{'long_name': 'Avenid...</td>\n",
       "      <td>2</td>\n",
       "    </tr>\n",
       "    <tr>\n",
       "      <th>165</th>\n",
       "      <td>165</td>\n",
       "      <td>572297-7</td>\n",
       "      <td>R  NOGUEIRA ACIOLI 349  ALTOS CENTRO FORTALEZA...</td>\n",
       "      <td>ASSOCIACAO BIBLICA E CULTURAL NOVA ORDEM DE DEUS</td>\n",
       "      <td>Imunidade</td>\n",
       "      <td>Templos Religiosos</td>\n",
       "      <td>[{'address_components': [{'long_name': '996', ...</td>\n",
       "      <td>2</td>\n",
       "    </tr>\n",
       "    <tr>\n",
       "      <th>173</th>\n",
       "      <td>173</td>\n",
       "      <td>604493-0</td>\n",
       "      <td>R  CAIO PRADO 100  PARANGABA FORTALEZA - CE CE...</td>\n",
       "      <td>ASSOCIACAO BRASILEIRA DE EDUCACAO E ASSISTENCIA</td>\n",
       "      <td>Imunidade</td>\n",
       "      <td>Templos Religiosos</td>\n",
       "      <td>[{'address_components': [{'long_name': '100', ...</td>\n",
       "      <td>2</td>\n",
       "    </tr>\n",
       "    <tr>\n",
       "      <th>381</th>\n",
       "      <td>381</td>\n",
       "      <td>257382-2</td>\n",
       "      <td>R  ROSA CRUZ 1033  PARTESDOSLOTES79E81 MARAPON...</td>\n",
       "      <td>GRUPO ESPIRITA BEM-VINDO A CARIDADE</td>\n",
       "      <td>Imunidade</td>\n",
       "      <td>Templos Religiosos</td>\n",
       "      <td>[{'address_components': [{'long_name': '951', ...</td>\n",
       "      <td>2</td>\n",
       "    </tr>\n",
       "    <tr>\n",
       "      <th>426</th>\n",
       "      <td>426</td>\n",
       "      <td>709120-6</td>\n",
       "      <td>R  S LOT EXPEDICIONARIOS II   Q016_L001 MONDUB...</td>\n",
       "      <td>IGREJA BETESDA DO CEARÁ</td>\n",
       "      <td>Imunidade</td>\n",
       "      <td>Templos Religiosos</td>\n",
       "      <td>[{'address_components': [{'long_name': '60761-...</td>\n",
       "      <td>2</td>\n",
       "    </tr>\n",
       "    <tr>\n",
       "      <th>431</th>\n",
       "      <td>431</td>\n",
       "      <td>940117-2</td>\n",
       "      <td>R  A RES JACIARA MUTIRAO 90  BARRA DO CEARÁ FO...</td>\n",
       "      <td>IGREJA BIBLICA HERDEIROS DE DEUS</td>\n",
       "      <td>Imunidade</td>\n",
       "      <td>Templos Religiosos</td>\n",
       "      <td>[{'address_components': [{'long_name': 'Rua D'...</td>\n",
       "      <td>2</td>\n",
       "    </tr>\n",
       "    <tr>\n",
       "      <th>462</th>\n",
       "      <td>462</td>\n",
       "      <td>4600-0</td>\n",
       "      <td>PC CEL JOAO FONTES 366  MONTE CASTELO FORTALEZ...</td>\n",
       "      <td>IGREJA DO EVANGELIO PLENO</td>\n",
       "      <td>Imunidade</td>\n",
       "      <td>Templos Religiosos</td>\n",
       "      <td>[{'address_components': [{'long_name': 'Rua Jo...</td>\n",
       "      <td>2</td>\n",
       "    </tr>\n",
       "    <tr>\n",
       "      <th>545</th>\n",
       "      <td>545</td>\n",
       "      <td>8417-4</td>\n",
       "      <td>R MAJ WEYNE 1603  RODOLFO TEÓFILO FORTALEZA - ...</td>\n",
       "      <td>IGREJA EVANGELICA ASSEMBLEIA DE DEUS</td>\n",
       "      <td>Imunidade</td>\n",
       "      <td>Templos Religiosos</td>\n",
       "      <td>[{'address_components': [{'long_name': '1603',...</td>\n",
       "      <td>2</td>\n",
       "    </tr>\n",
       "    <tr>\n",
       "      <th>631</th>\n",
       "      <td>631</td>\n",
       "      <td>308733-6</td>\n",
       "      <td>R  BELEM (NOEL ROSA) 32  DOM LUSTOSA FORTALEZA...</td>\n",
       "      <td>IGREJA FUNDAMENTALISTA CRISTO E VIDA</td>\n",
       "      <td>Imunidade</td>\n",
       "      <td>Templos Religiosos</td>\n",
       "      <td>[{'address_components': [{'long_name': 'Belém'...</td>\n",
       "      <td>2</td>\n",
       "    </tr>\n",
       "    <tr>\n",
       "      <th>667</th>\n",
       "      <td>667</td>\n",
       "      <td>297306-5</td>\n",
       "      <td>R  BERNARDO   Q018 SN PREFEITO JOSÉ WALTER FOR...</td>\n",
       "      <td>IGREJA UNIVERSAL DO REINO DE DEUS</td>\n",
       "      <td>Imunidade</td>\n",
       "      <td>Templos Religiosos</td>\n",
       "      <td>[{'address_components': [{'long_name': '12480'...</td>\n",
       "      <td>2</td>\n",
       "    </tr>\n",
       "    <tr>\n",
       "      <th>698</th>\n",
       "      <td>698</td>\n",
       "      <td>353125-2</td>\n",
       "      <td>R  IV (CIDADE OESTE)   L033 Q004 QUINTINO CUNH...</td>\n",
       "      <td>JORGE LUIZ ALBUQUERQUE ARRUDA</td>\n",
       "      <td>Imunidade</td>\n",
       "      <td>Templos Religiosos</td>\n",
       "      <td>[{'address_components': [{'long_name': 'Rua IV...</td>\n",
       "      <td>2</td>\n",
       "    </tr>\n",
       "    <tr>\n",
       "      <th>781</th>\n",
       "      <td>781</td>\n",
       "      <td>228443-0</td>\n",
       "      <td>R  DO GIRO 30  ANTIGA PRACA CEL ALBANO PARANGA...</td>\n",
       "      <td>SEMINARIO E INSTITUTO BIBLICO MARANATA</td>\n",
       "      <td>Imunidade</td>\n",
       "      <td>Templos Religiosos</td>\n",
       "      <td>[{'address_components': [{'long_name': '30', '...</td>\n",
       "      <td>2</td>\n",
       "    </tr>\n",
       "  </tbody>\n",
       "</table>\n",
       "</div>"
      ],
      "text/plain": [
       "     Unnamed: 0 INSCRICAO                                    ENDEREÇO IMOVEL  \\\n",
       "43           43   68899-1  AV  FILOMENO GOMES   SN MOURA BRASIL FORTALEZA...   \n",
       "84           84  582158-4  R  VIA COLETORA A PQ SAO MATEUS 785  MONDUBIM ...   \n",
       "165         165  572297-7  R  NOGUEIRA ACIOLI 349  ALTOS CENTRO FORTALEZA...   \n",
       "173         173  604493-0  R  CAIO PRADO 100  PARANGABA FORTALEZA - CE CE...   \n",
       "381         381  257382-2  R  ROSA CRUZ 1033  PARTESDOSLOTES79E81 MARAPON...   \n",
       "426         426  709120-6  R  S LOT EXPEDICIONARIOS II   Q016_L001 MONDUB...   \n",
       "431         431  940117-2  R  A RES JACIARA MUTIRAO 90  BARRA DO CEARÁ FO...   \n",
       "462         462    4600-0  PC CEL JOAO FONTES 366  MONTE CASTELO FORTALEZ...   \n",
       "545         545    8417-4  R MAJ WEYNE 1603  RODOLFO TEÓFILO FORTALEZA - ...   \n",
       "631         631  308733-6  R  BELEM (NOEL ROSA) 32  DOM LUSTOSA FORTALEZA...   \n",
       "667         667  297306-5  R  BERNARDO   Q018 SN PREFEITO JOSÉ WALTER FOR...   \n",
       "698         698  353125-2  R  IV (CIDADE OESTE)   L033 Q004 QUINTINO CUNH...   \n",
       "781         781  228443-0  R  DO GIRO 30  ANTIGA PRACA CEL ALBANO PARANGA...   \n",
       "\n",
       "                                         CONTRIBUINTE CLASSIFICACAO  \\\n",
       "43                          ARQUIDIOCESE DE FORTALEZA     Imunidade   \n",
       "84               ASSEMBLEIA DE DEUS RIOS DE AGUA VIVA     Imunidade   \n",
       "165  ASSOCIACAO BIBLICA E CULTURAL NOVA ORDEM DE DEUS     Imunidade   \n",
       "173   ASSOCIACAO BRASILEIRA DE EDUCACAO E ASSISTENCIA     Imunidade   \n",
       "381               GRUPO ESPIRITA BEM-VINDO A CARIDADE     Imunidade   \n",
       "426                           IGREJA BETESDA DO CEARÁ     Imunidade   \n",
       "431                  IGREJA BIBLICA HERDEIROS DE DEUS     Imunidade   \n",
       "462                         IGREJA DO EVANGELIO PLENO     Imunidade   \n",
       "545              IGREJA EVANGELICA ASSEMBLEIA DE DEUS     Imunidade   \n",
       "631              IGREJA FUNDAMENTALISTA CRISTO E VIDA     Imunidade   \n",
       "667                 IGREJA UNIVERSAL DO REINO DE DEUS     Imunidade   \n",
       "698                     JORGE LUIZ ALBUQUERQUE ARRUDA     Imunidade   \n",
       "781            SEMINARIO E INSTITUTO BIBLICO MARANATA     Imunidade   \n",
       "\n",
       "              BENEFICIO                                     geocode_result  \\\n",
       "43   Templos Religiosos  [{'address_components': [{'long_name': '430', ...   \n",
       "84   Templos Religiosos  [{'address_components': [{'long_name': 'Avenid...   \n",
       "165  Templos Religiosos  [{'address_components': [{'long_name': '996', ...   \n",
       "173  Templos Religiosos  [{'address_components': [{'long_name': '100', ...   \n",
       "381  Templos Religiosos  [{'address_components': [{'long_name': '951', ...   \n",
       "426  Templos Religiosos  [{'address_components': [{'long_name': '60761-...   \n",
       "431  Templos Religiosos  [{'address_components': [{'long_name': 'Rua D'...   \n",
       "462  Templos Religiosos  [{'address_components': [{'long_name': 'Rua Jo...   \n",
       "545  Templos Religiosos  [{'address_components': [{'long_name': '1603',...   \n",
       "631  Templos Religiosos  [{'address_components': [{'long_name': 'Belém'...   \n",
       "667  Templos Religiosos  [{'address_components': [{'long_name': '12480'...   \n",
       "698  Templos Religiosos  [{'address_components': [{'long_name': 'Rua IV...   \n",
       "781  Templos Religiosos  [{'address_components': [{'long_name': '30', '...   \n",
       "\n",
       "     len_busca_google  \n",
       "43                  2  \n",
       "84                  2  \n",
       "165                 2  \n",
       "173                 2  \n",
       "381                 2  \n",
       "426                 2  \n",
       "431                 2  \n",
       "462                 2  \n",
       "545                 2  \n",
       "631                 2  \n",
       "667                 2  \n",
       "698                 2  \n",
       "781                 2  "
      ]
     },
     "execution_count": 18,
     "metadata": {},
     "output_type": "execute_result"
    }
   ],
   "source": [
    "dataframe.loc[dataframe.len_busca_google == 2]"
   ]
  },
  {
   "cell_type": "code",
   "execution_count": 19,
   "id": "520f2595",
   "metadata": {},
   "outputs": [
    {
     "data": {
      "text/plain": [
       "[{'address_components': [{'long_name': 'Avenida Coletora A',\n",
       "    'short_name': 'Av. Coletora A',\n",
       "    'types': ['route']},\n",
       "   {'long_name': 'Mondubim',\n",
       "    'short_name': 'Mondubim',\n",
       "    'types': ['political', 'sublocality', 'sublocality_level_1']},\n",
       "   {'long_name': 'Fortaleza',\n",
       "    'short_name': 'Fortaleza',\n",
       "    'types': ['administrative_area_level_2', 'political']},\n",
       "   {'long_name': 'Ceará',\n",
       "    'short_name': 'CE',\n",
       "    'types': ['administrative_area_level_1', 'political']},\n",
       "   {'long_name': 'Brazil',\n",
       "    'short_name': 'BR',\n",
       "    'types': ['country', 'political']},\n",
       "   {'long_name': '60768-010',\n",
       "    'short_name': '60768-010',\n",
       "    'types': ['postal_code']}],\n",
       "  'formatted_address': 'Av. Coletora A - Mondubim, Fortaleza - CE, 60768-010, Brazil',\n",
       "  'geometry': {'bounds': {'northeast': {'lat': -3.8140856, 'lng': -38.5784465},\n",
       "    'southwest': {'lat': -3.8178788, 'lng': -38.5832279}},\n",
       "   'location': {'lat': -3.8160988, 'lng': -38.5807897},\n",
       "   'location_type': 'GEOMETRIC_CENTER',\n",
       "   'viewport': {'northeast': {'lat': -3.8140856, 'lng': -38.5784465},\n",
       "    'southwest': {'lat': -3.8178788, 'lng': -38.5832279}}},\n",
       "  'partial_match': True,\n",
       "  'place_id': 'EjxBdi4gQ29sZXRvcmEgQSAtIE1vbmR1YmltLCBGb3J0YWxlemEgLSBDRSwgNjA3NjgtMDEwLCBCcmF6aWwiLiosChQKEgl_I16_6E3HBxFNjdWyTFDHAxIUChIJJQmFA-lNxwcRUoC-DrMS_W8',\n",
       "  'types': ['route']},\n",
       " {'address_components': [{'long_name': 'Loteamento São Mateus',\n",
       "    'short_name': 'Lot. São Mateus',\n",
       "    'types': ['route']},\n",
       "   {'long_name': 'Mondubim',\n",
       "    'short_name': 'Mondubim',\n",
       "    'types': ['political', 'sublocality', 'sublocality_level_1']},\n",
       "   {'long_name': 'Fortaleza',\n",
       "    'short_name': 'Fortaleza',\n",
       "    'types': ['administrative_area_level_2', 'political']},\n",
       "   {'long_name': 'Ceará',\n",
       "    'short_name': 'CE',\n",
       "    'types': ['administrative_area_level_1', 'political']},\n",
       "   {'long_name': 'Brazil',\n",
       "    'short_name': 'BR',\n",
       "    'types': ['country', 'political']},\n",
       "   {'long_name': '60768-010',\n",
       "    'short_name': '60768-010',\n",
       "    'types': ['postal_code']}],\n",
       "  'formatted_address': 'Lot. São Mateus - Mondubim, Fortaleza - CE, 60768-010, Brazil',\n",
       "  'geometry': {'bounds': {'northeast': {'lat': -3.8156158, 'lng': -38.5810167},\n",
       "    'southwest': {'lat': -3.8167194, 'lng': -38.582657}},\n",
       "   'location': {'lat': -3.8161448, 'lng': -38.5818819},\n",
       "   'location_type': 'GEOMETRIC_CENTER',\n",
       "   'viewport': {'northeast': {'lat': -3.814818619708498,\n",
       "     'lng': -38.5804878697085},\n",
       "    'southwest': {'lat': -3.817516580291503, 'lng': -38.58318583029149}}},\n",
       "  'partial_match': True,\n",
       "  'place_id': 'Ej5Mb3QuIFPDo28gTWF0ZXVzIC0gTW9uZHViaW0sIEZvcnRhbGV6YSAtIENFLCA2MDc2OC0wMTAsIEJyYXppbCIuKiwKFAoSCUk5mcvoTccHEZ46sV_DHJFjEhQKEgklCYUD6U3HBxFSgL4OsxL9bw',\n",
       "  'types': ['route']}]"
      ]
     },
     "execution_count": 19,
     "metadata": {},
     "output_type": "execute_result"
    }
   ],
   "source": [
    "dataframe.loc[84]['geocode_result']"
   ]
  },
  {
   "cell_type": "code",
   "execution_count": null,
   "id": "36784252",
   "metadata": {},
   "outputs": [],
   "source": []
  },
  {
   "cell_type": "code",
   "execution_count": 20,
   "id": "fd0bf9eb",
   "metadata": {},
   "outputs": [],
   "source": [
    "dataframe = dataframe.explode('geocode_result')"
   ]
  },
  {
   "cell_type": "code",
   "execution_count": 21,
   "id": "58823a73",
   "metadata": {},
   "outputs": [
    {
     "data": {
      "text/html": [
       "<div>\n",
       "<style scoped>\n",
       "    .dataframe tbody tr th:only-of-type {\n",
       "        vertical-align: middle;\n",
       "    }\n",
       "\n",
       "    .dataframe tbody tr th {\n",
       "        vertical-align: top;\n",
       "    }\n",
       "\n",
       "    .dataframe thead th {\n",
       "        text-align: right;\n",
       "    }\n",
       "</style>\n",
       "<table border=\"1\" class=\"dataframe\">\n",
       "  <thead>\n",
       "    <tr style=\"text-align: right;\">\n",
       "      <th></th>\n",
       "      <th>Unnamed: 0</th>\n",
       "      <th>INSCRICAO</th>\n",
       "      <th>ENDEREÇO IMOVEL</th>\n",
       "      <th>CONTRIBUINTE</th>\n",
       "      <th>CLASSIFICACAO</th>\n",
       "      <th>BENEFICIO</th>\n",
       "      <th>geocode_result</th>\n",
       "      <th>len_busca_google</th>\n",
       "    </tr>\n",
       "  </thead>\n",
       "  <tbody>\n",
       "    <tr>\n",
       "      <th>0</th>\n",
       "      <td>0</td>\n",
       "      <td>230390-6</td>\n",
       "      <td>R  ELVIRA PINHO 220  MONTESE FORTALEZA - CE CE...</td>\n",
       "      <td>ABIJCSUD</td>\n",
       "      <td>Imunidade</td>\n",
       "      <td>Templos Religiosos</td>\n",
       "      <td>{'address_components': [{'long_name': '220', '...</td>\n",
       "      <td>1</td>\n",
       "    </tr>\n",
       "    <tr>\n",
       "      <th>1</th>\n",
       "      <td>1</td>\n",
       "      <td>210264-1</td>\n",
       "      <td>R  JOSE FREITAS DA SILVA   SN  BELA VISTA FORT...</td>\n",
       "      <td>ACAO SOCIAL DA PAROQUIA DE SAO RAIMUNDO ASPAR</td>\n",
       "      <td>Imunidade</td>\n",
       "      <td>Templos Religiosos</td>\n",
       "      <td>{'address_components': [{'long_name': 'Rua Jos...</td>\n",
       "      <td>1</td>\n",
       "    </tr>\n",
       "    <tr>\n",
       "      <th>2</th>\n",
       "      <td>2</td>\n",
       "      <td>7945-6</td>\n",
       "      <td>R  FRANCISCA CLOTILDE 826  RODOLFO TEÓFILO FOR...</td>\n",
       "      <td>ACAO SOCIAL DA PAROQUIA DE SAO RAIMUNDO ASPAR</td>\n",
       "      <td>Imunidade</td>\n",
       "      <td>Templos Religiosos</td>\n",
       "      <td>{'address_components': [{'long_name': '826', '...</td>\n",
       "      <td>1</td>\n",
       "    </tr>\n",
       "    <tr>\n",
       "      <th>3</th>\n",
       "      <td>3</td>\n",
       "      <td>8615-0</td>\n",
       "      <td>R  DELMIRO DE FARIAS 1900 QUADRA 50A RODOLFO T...</td>\n",
       "      <td>ALFA 2 SPE EMPREENDIMENTO IMOBILIARIO LTDA</td>\n",
       "      <td>Imunidade</td>\n",
       "      <td>Templos Religiosos</td>\n",
       "      <td>{'address_components': [{'long_name': 'QUADRA ...</td>\n",
       "      <td>1</td>\n",
       "    </tr>\n",
       "    <tr>\n",
       "      <th>4</th>\n",
       "      <td>4</td>\n",
       "      <td>606258-0</td>\n",
       "      <td>R  ROSA CRUZ   VAZIO MARAPONGA FORTALEZA - CE ...</td>\n",
       "      <td>ANTIGA E MISTICA ORD ROSAE CRUCIS AMORC GLJL P...</td>\n",
       "      <td>Imunidade</td>\n",
       "      <td>Templos Religiosos</td>\n",
       "      <td>{'address_components': [{'long_name': 'Rua Ros...</td>\n",
       "      <td>1</td>\n",
       "    </tr>\n",
       "    <tr>\n",
       "      <th>...</th>\n",
       "      <td>...</td>\n",
       "      <td>...</td>\n",
       "      <td>...</td>\n",
       "      <td>...</td>\n",
       "      <td>...</td>\n",
       "      <td>...</td>\n",
       "      <td>...</td>\n",
       "      <td>...</td>\n",
       "    </tr>\n",
       "    <tr>\n",
       "      <th>814</th>\n",
       "      <td>814</td>\n",
       "      <td>70719-8</td>\n",
       "      <td>R  JAIME BENEVOLO 259  CENTRO FORTALEZA - CE C...</td>\n",
       "      <td>UNIAO NORTE BRASILEIRA DE EDUCACAO E CULTURA</td>\n",
       "      <td>Imunidade</td>\n",
       "      <td>Templos Religiosos</td>\n",
       "      <td>{'address_components': [{'long_name': '259', '...</td>\n",
       "      <td>1</td>\n",
       "    </tr>\n",
       "    <tr>\n",
       "      <th>815</th>\n",
       "      <td>815</td>\n",
       "      <td>70822-4</td>\n",
       "      <td>AV DUQ DE CAXIAS 101  CENTRO FORTALEZA - CE CE...</td>\n",
       "      <td>UNIAO NORTE BRASILEIRA DE EDUCACAO E CULTURA</td>\n",
       "      <td>Imunidade</td>\n",
       "      <td>Templos Religiosos</td>\n",
       "      <td>{'address_components': [{'long_name': '101', '...</td>\n",
       "      <td>1</td>\n",
       "    </tr>\n",
       "    <tr>\n",
       "      <th>816</th>\n",
       "      <td>816</td>\n",
       "      <td>67961-5</td>\n",
       "      <td>R PRC ISABEL 290  CENTRO FORTALEZA - CE CEP:60...</td>\n",
       "      <td>1 IGREJA PRESBITERIANA INDEPENDENTE DE FORTALEZA</td>\n",
       "      <td>Imunidade</td>\n",
       "      <td>Templos Religiosos</td>\n",
       "      <td>{'address_components': [{'long_name': '290', '...</td>\n",
       "      <td>1</td>\n",
       "    </tr>\n",
       "    <tr>\n",
       "      <th>817</th>\n",
       "      <td>817</td>\n",
       "      <td>110662-7</td>\n",
       "      <td>R  WALTER POMPEU 760  CRISTO REDENTOR FORTALEZ...</td>\n",
       "      <td>1 IGREJA PRESBITERIANA INDEPENDENTE DE FORTALEZA</td>\n",
       "      <td>Imunidade</td>\n",
       "      <td>Templos Religiosos</td>\n",
       "      <td>{'address_components': [{'long_name': '760', '...</td>\n",
       "      <td>1</td>\n",
       "    </tr>\n",
       "    <tr>\n",
       "      <th>818</th>\n",
       "      <td>818</td>\n",
       "      <td>180284-4</td>\n",
       "      <td>R CAP OLAVO 324  ALTO DA BALANÇA FORTALEZA - C...</td>\n",
       "      <td>1 IGREJA PRESBITERIANA INDEPENDENTE DE FORTALEZA</td>\n",
       "      <td>Imunidade</td>\n",
       "      <td>Templos Religiosos</td>\n",
       "      <td>{'address_components': [{'long_name': '324', '...</td>\n",
       "      <td>1</td>\n",
       "    </tr>\n",
       "  </tbody>\n",
       "</table>\n",
       "<p>834 rows × 8 columns</p>\n",
       "</div>"
      ],
      "text/plain": [
       "     Unnamed: 0 INSCRICAO                                    ENDEREÇO IMOVEL  \\\n",
       "0             0  230390-6  R  ELVIRA PINHO 220  MONTESE FORTALEZA - CE CE...   \n",
       "1             1  210264-1  R  JOSE FREITAS DA SILVA   SN  BELA VISTA FORT...   \n",
       "2             2    7945-6  R  FRANCISCA CLOTILDE 826  RODOLFO TEÓFILO FOR...   \n",
       "3             3    8615-0  R  DELMIRO DE FARIAS 1900 QUADRA 50A RODOLFO T...   \n",
       "4             4  606258-0  R  ROSA CRUZ   VAZIO MARAPONGA FORTALEZA - CE ...   \n",
       "..          ...       ...                                                ...   \n",
       "814         814   70719-8  R  JAIME BENEVOLO 259  CENTRO FORTALEZA - CE C...   \n",
       "815         815   70822-4  AV DUQ DE CAXIAS 101  CENTRO FORTALEZA - CE CE...   \n",
       "816         816   67961-5  R PRC ISABEL 290  CENTRO FORTALEZA - CE CEP:60...   \n",
       "817         817  110662-7  R  WALTER POMPEU 760  CRISTO REDENTOR FORTALEZ...   \n",
       "818         818  180284-4  R CAP OLAVO 324  ALTO DA BALANÇA FORTALEZA - C...   \n",
       "\n",
       "                                          CONTRIBUINTE CLASSIFICACAO  \\\n",
       "0                                             ABIJCSUD     Imunidade   \n",
       "1        ACAO SOCIAL DA PAROQUIA DE SAO RAIMUNDO ASPAR     Imunidade   \n",
       "2        ACAO SOCIAL DA PAROQUIA DE SAO RAIMUNDO ASPAR     Imunidade   \n",
       "3           ALFA 2 SPE EMPREENDIMENTO IMOBILIARIO LTDA     Imunidade   \n",
       "4    ANTIGA E MISTICA ORD ROSAE CRUCIS AMORC GLJL P...     Imunidade   \n",
       "..                                                 ...           ...   \n",
       "814       UNIAO NORTE BRASILEIRA DE EDUCACAO E CULTURA     Imunidade   \n",
       "815       UNIAO NORTE BRASILEIRA DE EDUCACAO E CULTURA     Imunidade   \n",
       "816   1 IGREJA PRESBITERIANA INDEPENDENTE DE FORTALEZA     Imunidade   \n",
       "817   1 IGREJA PRESBITERIANA INDEPENDENTE DE FORTALEZA     Imunidade   \n",
       "818   1 IGREJA PRESBITERIANA INDEPENDENTE DE FORTALEZA     Imunidade   \n",
       "\n",
       "              BENEFICIO                                     geocode_result  \\\n",
       "0    Templos Religiosos  {'address_components': [{'long_name': '220', '...   \n",
       "1    Templos Religiosos  {'address_components': [{'long_name': 'Rua Jos...   \n",
       "2    Templos Religiosos  {'address_components': [{'long_name': '826', '...   \n",
       "3    Templos Religiosos  {'address_components': [{'long_name': 'QUADRA ...   \n",
       "4    Templos Religiosos  {'address_components': [{'long_name': 'Rua Ros...   \n",
       "..                  ...                                                ...   \n",
       "814  Templos Religiosos  {'address_components': [{'long_name': '259', '...   \n",
       "815  Templos Religiosos  {'address_components': [{'long_name': '101', '...   \n",
       "816  Templos Religiosos  {'address_components': [{'long_name': '290', '...   \n",
       "817  Templos Religiosos  {'address_components': [{'long_name': '760', '...   \n",
       "818  Templos Religiosos  {'address_components': [{'long_name': '324', '...   \n",
       "\n",
       "     len_busca_google  \n",
       "0                   1  \n",
       "1                   1  \n",
       "2                   1  \n",
       "3                   1  \n",
       "4                   1  \n",
       "..                ...  \n",
       "814                 1  \n",
       "815                 1  \n",
       "816                 1  \n",
       "817                 1  \n",
       "818                 1  \n",
       "\n",
       "[834 rows x 8 columns]"
      ]
     },
     "execution_count": 21,
     "metadata": {},
     "output_type": "execute_result"
    }
   ],
   "source": [
    "dataframe"
   ]
  },
  {
   "cell_type": "code",
   "execution_count": null,
   "id": "7bba71b8",
   "metadata": {},
   "outputs": [],
   "source": []
  },
  {
   "cell_type": "code",
   "execution_count": 22,
   "id": "a6898b0b",
   "metadata": {},
   "outputs": [
    {
     "data": {
      "text/plain": [
       "dict_keys(['address_components', 'formatted_address', 'geometry', 'place_id', 'types'])"
      ]
     },
     "execution_count": 22,
     "metadata": {},
     "output_type": "execute_result"
    }
   ],
   "source": [
    "dataframe['geocode_result'][0].keys()"
   ]
  },
  {
   "cell_type": "code",
   "execution_count": 23,
   "id": "3b2e2607",
   "metadata": {},
   "outputs": [
    {
     "data": {
      "text/plain": [
       "[{'long_name': '220', 'short_name': '220', 'types': ['street_number']},\n",
       " {'long_name': 'Rua Elvira Pinho',\n",
       "  'short_name': 'R. Elvira Pinho',\n",
       "  'types': ['route']},\n",
       " {'long_name': 'Montese',\n",
       "  'short_name': 'Montese',\n",
       "  'types': ['political', 'sublocality', 'sublocality_level_1']},\n",
       " {'long_name': 'Fortaleza',\n",
       "  'short_name': 'Fortaleza',\n",
       "  'types': ['administrative_area_level_2', 'political']},\n",
       " {'long_name': 'Ceará',\n",
       "  'short_name': 'CE',\n",
       "  'types': ['administrative_area_level_1', 'political']},\n",
       " {'long_name': 'Brazil',\n",
       "  'short_name': 'BR',\n",
       "  'types': ['country', 'political']},\n",
       " {'long_name': '60421-000',\n",
       "  'short_name': '60421-000',\n",
       "  'types': ['postal_code']}]"
      ]
     },
     "execution_count": 23,
     "metadata": {},
     "output_type": "execute_result"
    }
   ],
   "source": [
    "dataframe['geocode_result'][0]['address_components']"
   ]
  },
  {
   "cell_type": "code",
   "execution_count": 24,
   "id": "3e04a2c7",
   "metadata": {},
   "outputs": [],
   "source": [
    "def getBairro(address_components):\n",
    "    \n",
    "    for component in address_components:\n",
    "        if component['types'] == ['political', 'sublocality', 'sublocality_level_1']:\n",
    "            return component['long_name']\n",
    "    \n",
    "    return 'Não identificado'\n",
    "#     print(address_components)\n",
    "#     print('\\n\\n')\n",
    "#     return None"
   ]
  },
  {
   "cell_type": "code",
   "execution_count": 25,
   "id": "e270a5f9",
   "metadata": {},
   "outputs": [
    {
     "data": {
      "text/plain": [
       "'Rodolfo Teófilo'"
      ]
     },
     "execution_count": 25,
     "metadata": {},
     "output_type": "execute_result"
    }
   ],
   "source": [
    "getBairro(dataframe['geocode_result'][3]['address_components'])"
   ]
  },
  {
   "cell_type": "code",
   "execution_count": 26,
   "id": "9aeabcc9",
   "metadata": {},
   "outputs": [],
   "source": [
    "dataframe['bairro'] = dataframe['geocode_result'].apply(lambda x: getBairro(x['address_components']))"
   ]
  },
  {
   "cell_type": "code",
   "execution_count": null,
   "id": "f42b0207",
   "metadata": {},
   "outputs": [],
   "source": []
  },
  {
   "cell_type": "code",
   "execution_count": 27,
   "id": "6a57b8e3",
   "metadata": {},
   "outputs": [
    {
     "data": {
      "text/plain": [
       "{'bounds': {'northeast': {'lat': -3.7664997, 'lng': -38.5571499},\n",
       "  'southwest': {'lat': -3.766923799999999, 'lng': -38.5574778}},\n",
       " 'location': {'lat': -3.7667387, 'lng': -38.5573519},\n",
       " 'location_type': 'ROOFTOP',\n",
       " 'viewport': {'northeast': {'lat': -3.765362769708497,\n",
       "   'lng': -38.5559648697085},\n",
       "  'southwest': {'lat': -3.768060730291502, 'lng': -38.5586628302915}}}"
      ]
     },
     "execution_count": 27,
     "metadata": {},
     "output_type": "execute_result"
    }
   ],
   "source": [
    "dataframe['geocode_result'][0]['geometry']"
   ]
  },
  {
   "cell_type": "code",
   "execution_count": 28,
   "id": "8a48a04a",
   "metadata": {},
   "outputs": [],
   "source": [
    "dataframe['lat_lng'] = dataframe['geocode_result'].apply(lambda x: x['geometry']['location'])"
   ]
  },
  {
   "cell_type": "code",
   "execution_count": 29,
   "id": "79fabd0d",
   "metadata": {},
   "outputs": [
    {
     "data": {
      "text/html": [
       "<div>\n",
       "<style scoped>\n",
       "    .dataframe tbody tr th:only-of-type {\n",
       "        vertical-align: middle;\n",
       "    }\n",
       "\n",
       "    .dataframe tbody tr th {\n",
       "        vertical-align: top;\n",
       "    }\n",
       "\n",
       "    .dataframe thead th {\n",
       "        text-align: right;\n",
       "    }\n",
       "</style>\n",
       "<table border=\"1\" class=\"dataframe\">\n",
       "  <thead>\n",
       "    <tr style=\"text-align: right;\">\n",
       "      <th></th>\n",
       "      <th>Unnamed: 0</th>\n",
       "      <th>INSCRICAO</th>\n",
       "      <th>ENDEREÇO IMOVEL</th>\n",
       "      <th>CONTRIBUINTE</th>\n",
       "      <th>CLASSIFICACAO</th>\n",
       "      <th>BENEFICIO</th>\n",
       "      <th>geocode_result</th>\n",
       "      <th>len_busca_google</th>\n",
       "      <th>bairro</th>\n",
       "      <th>lat_lng</th>\n",
       "    </tr>\n",
       "  </thead>\n",
       "  <tbody>\n",
       "    <tr>\n",
       "      <th>0</th>\n",
       "      <td>0</td>\n",
       "      <td>230390-6</td>\n",
       "      <td>R  ELVIRA PINHO 220  MONTESE FORTALEZA - CE CE...</td>\n",
       "      <td>ABIJCSUD</td>\n",
       "      <td>Imunidade</td>\n",
       "      <td>Templos Religiosos</td>\n",
       "      <td>{'address_components': [{'long_name': '220', '...</td>\n",
       "      <td>1</td>\n",
       "      <td>Montese</td>\n",
       "      <td>{'lat': -3.7667387, 'lng': -38.5573519}</td>\n",
       "    </tr>\n",
       "    <tr>\n",
       "      <th>1</th>\n",
       "      <td>1</td>\n",
       "      <td>210264-1</td>\n",
       "      <td>R  JOSE FREITAS DA SILVA   SN  BELA VISTA FORT...</td>\n",
       "      <td>ACAO SOCIAL DA PAROQUIA DE SAO RAIMUNDO ASPAR</td>\n",
       "      <td>Imunidade</td>\n",
       "      <td>Templos Religiosos</td>\n",
       "      <td>{'address_components': [{'long_name': 'Rua Jos...</td>\n",
       "      <td>1</td>\n",
       "      <td>Bela Vista</td>\n",
       "      <td>{'lat': -3.7480226, 'lng': -38.5666529}</td>\n",
       "    </tr>\n",
       "    <tr>\n",
       "      <th>2</th>\n",
       "      <td>2</td>\n",
       "      <td>7945-6</td>\n",
       "      <td>R  FRANCISCA CLOTILDE 826  RODOLFO TEÓFILO FOR...</td>\n",
       "      <td>ACAO SOCIAL DA PAROQUIA DE SAO RAIMUNDO ASPAR</td>\n",
       "      <td>Imunidade</td>\n",
       "      <td>Templos Religiosos</td>\n",
       "      <td>{'address_components': [{'long_name': '826', '...</td>\n",
       "      <td>1</td>\n",
       "      <td>Rodolfo Teófilo</td>\n",
       "      <td>{'lat': -3.7445849, 'lng': -38.55471989999999}</td>\n",
       "    </tr>\n",
       "    <tr>\n",
       "      <th>3</th>\n",
       "      <td>3</td>\n",
       "      <td>8615-0</td>\n",
       "      <td>R  DELMIRO DE FARIAS 1900 QUADRA 50A RODOLFO T...</td>\n",
       "      <td>ALFA 2 SPE EMPREENDIMENTO IMOBILIARIO LTDA</td>\n",
       "      <td>Imunidade</td>\n",
       "      <td>Templos Religiosos</td>\n",
       "      <td>{'address_components': [{'long_name': 'QUADRA ...</td>\n",
       "      <td>1</td>\n",
       "      <td>Rodolfo Teófilo</td>\n",
       "      <td>{'lat': -3.7442171, 'lng': -38.5531882}</td>\n",
       "    </tr>\n",
       "    <tr>\n",
       "      <th>4</th>\n",
       "      <td>4</td>\n",
       "      <td>606258-0</td>\n",
       "      <td>R  ROSA CRUZ   VAZIO MARAPONGA FORTALEZA - CE ...</td>\n",
       "      <td>ANTIGA E MISTICA ORD ROSAE CRUCIS AMORC GLJL P...</td>\n",
       "      <td>Imunidade</td>\n",
       "      <td>Templos Religiosos</td>\n",
       "      <td>{'address_components': [{'long_name': 'Rua Ros...</td>\n",
       "      <td>1</td>\n",
       "      <td>Maraponga</td>\n",
       "      <td>{'lat': -3.7982575, 'lng': -38.5688713}</td>\n",
       "    </tr>\n",
       "  </tbody>\n",
       "</table>\n",
       "</div>"
      ],
      "text/plain": [
       "   Unnamed: 0 INSCRICAO                                    ENDEREÇO IMOVEL  \\\n",
       "0           0  230390-6  R  ELVIRA PINHO 220  MONTESE FORTALEZA - CE CE...   \n",
       "1           1  210264-1  R  JOSE FREITAS DA SILVA   SN  BELA VISTA FORT...   \n",
       "2           2    7945-6  R  FRANCISCA CLOTILDE 826  RODOLFO TEÓFILO FOR...   \n",
       "3           3    8615-0  R  DELMIRO DE FARIAS 1900 QUADRA 50A RODOLFO T...   \n",
       "4           4  606258-0  R  ROSA CRUZ   VAZIO MARAPONGA FORTALEZA - CE ...   \n",
       "\n",
       "                                        CONTRIBUINTE CLASSIFICACAO  \\\n",
       "0                                           ABIJCSUD     Imunidade   \n",
       "1      ACAO SOCIAL DA PAROQUIA DE SAO RAIMUNDO ASPAR     Imunidade   \n",
       "2      ACAO SOCIAL DA PAROQUIA DE SAO RAIMUNDO ASPAR     Imunidade   \n",
       "3         ALFA 2 SPE EMPREENDIMENTO IMOBILIARIO LTDA     Imunidade   \n",
       "4  ANTIGA E MISTICA ORD ROSAE CRUCIS AMORC GLJL P...     Imunidade   \n",
       "\n",
       "            BENEFICIO                                     geocode_result  \\\n",
       "0  Templos Religiosos  {'address_components': [{'long_name': '220', '...   \n",
       "1  Templos Religiosos  {'address_components': [{'long_name': 'Rua Jos...   \n",
       "2  Templos Religiosos  {'address_components': [{'long_name': '826', '...   \n",
       "3  Templos Religiosos  {'address_components': [{'long_name': 'QUADRA ...   \n",
       "4  Templos Religiosos  {'address_components': [{'long_name': 'Rua Ros...   \n",
       "\n",
       "   len_busca_google           bairro  \\\n",
       "0                 1          Montese   \n",
       "1                 1       Bela Vista   \n",
       "2                 1  Rodolfo Teófilo   \n",
       "3                 1  Rodolfo Teófilo   \n",
       "4                 1        Maraponga   \n",
       "\n",
       "                                          lat_lng  \n",
       "0         {'lat': -3.7667387, 'lng': -38.5573519}  \n",
       "1         {'lat': -3.7480226, 'lng': -38.5666529}  \n",
       "2  {'lat': -3.7445849, 'lng': -38.55471989999999}  \n",
       "3         {'lat': -3.7442171, 'lng': -38.5531882}  \n",
       "4         {'lat': -3.7982575, 'lng': -38.5688713}  "
      ]
     },
     "execution_count": 29,
     "metadata": {},
     "output_type": "execute_result"
    }
   ],
   "source": [
    "dataframe.head()"
   ]
  },
  {
   "cell_type": "code",
   "execution_count": 30,
   "id": "50cbbde5",
   "metadata": {},
   "outputs": [],
   "source": [
    "dataframe['lat'] = dataframe['lat_lng'].apply(lambda x: x['lat'])\n",
    "dataframe['lng'] = dataframe['lat_lng'].apply(lambda x: x['lng'])"
   ]
  },
  {
   "cell_type": "code",
   "execution_count": 31,
   "id": "edc8d697",
   "metadata": {},
   "outputs": [
    {
     "data": {
      "text/html": [
       "<div>\n",
       "<style scoped>\n",
       "    .dataframe tbody tr th:only-of-type {\n",
       "        vertical-align: middle;\n",
       "    }\n",
       "\n",
       "    .dataframe tbody tr th {\n",
       "        vertical-align: top;\n",
       "    }\n",
       "\n",
       "    .dataframe thead th {\n",
       "        text-align: right;\n",
       "    }\n",
       "</style>\n",
       "<table border=\"1\" class=\"dataframe\">\n",
       "  <thead>\n",
       "    <tr style=\"text-align: right;\">\n",
       "      <th></th>\n",
       "      <th>cnpj</th>\n",
       "      <th>name</th>\n",
       "      <th>end</th>\n",
       "      <th>lat</th>\n",
       "      <th>lng</th>\n",
       "      <th>bairro</th>\n",
       "    </tr>\n",
       "  </thead>\n",
       "  <tbody>\n",
       "    <tr>\n",
       "      <th>0</th>\n",
       "      <td>230390-6</td>\n",
       "      <td>ABIJCSUD</td>\n",
       "      <td>R  ELVIRA PINHO 220  MONTESE FORTALEZA - CE CE...</td>\n",
       "      <td>-3.766739</td>\n",
       "      <td>-38.557352</td>\n",
       "      <td>Montese</td>\n",
       "    </tr>\n",
       "    <tr>\n",
       "      <th>1</th>\n",
       "      <td>210264-1</td>\n",
       "      <td>ACAO SOCIAL DA PAROQUIA DE SAO RAIMUNDO ASPAR</td>\n",
       "      <td>R  JOSE FREITAS DA SILVA   SN  BELA VISTA FORT...</td>\n",
       "      <td>-3.748023</td>\n",
       "      <td>-38.566653</td>\n",
       "      <td>Bela Vista</td>\n",
       "    </tr>\n",
       "    <tr>\n",
       "      <th>2</th>\n",
       "      <td>7945-6</td>\n",
       "      <td>ACAO SOCIAL DA PAROQUIA DE SAO RAIMUNDO ASPAR</td>\n",
       "      <td>R  FRANCISCA CLOTILDE 826  RODOLFO TEÓFILO FOR...</td>\n",
       "      <td>-3.744585</td>\n",
       "      <td>-38.554720</td>\n",
       "      <td>Rodolfo Teófilo</td>\n",
       "    </tr>\n",
       "    <tr>\n",
       "      <th>3</th>\n",
       "      <td>8615-0</td>\n",
       "      <td>ALFA 2 SPE EMPREENDIMENTO IMOBILIARIO LTDA</td>\n",
       "      <td>R  DELMIRO DE FARIAS 1900 QUADRA 50A RODOLFO T...</td>\n",
       "      <td>-3.744217</td>\n",
       "      <td>-38.553188</td>\n",
       "      <td>Rodolfo Teófilo</td>\n",
       "    </tr>\n",
       "    <tr>\n",
       "      <th>4</th>\n",
       "      <td>606258-0</td>\n",
       "      <td>ANTIGA E MISTICA ORD ROSAE CRUCIS AMORC GLJL P...</td>\n",
       "      <td>R  ROSA CRUZ   VAZIO MARAPONGA FORTALEZA - CE ...</td>\n",
       "      <td>-3.798258</td>\n",
       "      <td>-38.568871</td>\n",
       "      <td>Maraponga</td>\n",
       "    </tr>\n",
       "  </tbody>\n",
       "</table>\n",
       "</div>"
      ],
      "text/plain": [
       "       cnpj                                               name  \\\n",
       "0  230390-6                                           ABIJCSUD   \n",
       "1  210264-1      ACAO SOCIAL DA PAROQUIA DE SAO RAIMUNDO ASPAR   \n",
       "2    7945-6      ACAO SOCIAL DA PAROQUIA DE SAO RAIMUNDO ASPAR   \n",
       "3    8615-0         ALFA 2 SPE EMPREENDIMENTO IMOBILIARIO LTDA   \n",
       "4  606258-0  ANTIGA E MISTICA ORD ROSAE CRUCIS AMORC GLJL P...   \n",
       "\n",
       "                                                 end       lat        lng  \\\n",
       "0  R  ELVIRA PINHO 220  MONTESE FORTALEZA - CE CE... -3.766739 -38.557352   \n",
       "1  R  JOSE FREITAS DA SILVA   SN  BELA VISTA FORT... -3.748023 -38.566653   \n",
       "2  R  FRANCISCA CLOTILDE 826  RODOLFO TEÓFILO FOR... -3.744585 -38.554720   \n",
       "3  R  DELMIRO DE FARIAS 1900 QUADRA 50A RODOLFO T... -3.744217 -38.553188   \n",
       "4  R  ROSA CRUZ   VAZIO MARAPONGA FORTALEZA - CE ... -3.798258 -38.568871   \n",
       "\n",
       "            bairro  \n",
       "0          Montese  \n",
       "1       Bela Vista  \n",
       "2  Rodolfo Teófilo  \n",
       "3  Rodolfo Teófilo  \n",
       "4        Maraponga  "
      ]
     },
     "execution_count": 31,
     "metadata": {},
     "output_type": "execute_result"
    }
   ],
   "source": [
    "resumo_pontos = dataframe.filter(['INSCRICAO','CONTRIBUINTE','ENDEREÇO IMOVEL', 'lat' ,'lng','bairro'])\n",
    "resumo_pontos.columns = ['cnpj', 'name','end','lat','lng','bairro']\n",
    "resumo_pontos.to_csv('resumo_pontos.csv')\n",
    "resumo_pontos.head()"
   ]
  },
  {
   "cell_type": "code",
   "execution_count": null,
   "id": "186b185a",
   "metadata": {},
   "outputs": [],
   "source": []
  },
  {
   "cell_type": "code",
   "execution_count": null,
   "id": "3035a2e5",
   "metadata": {},
   "outputs": [],
   "source": []
  },
  {
   "cell_type": "markdown",
   "id": "0122ef07",
   "metadata": {},
   "source": [
    "# Outras informações nos dados / Agrupamentos"
   ]
  },
  {
   "cell_type": "code",
   "execution_count": 32,
   "id": "b8959750",
   "metadata": {},
   "outputs": [
    {
     "data": {
      "text/plain": [
       "IGREJA EVANGELICA ASSEMBLEIA DE DEUS                      129\n",
       "ARQUIDIOCESE DE FORTALEZA                                  78\n",
       "CONSELHO METR DE FORTALEZA DA SOC S VICENTE DE PAULO       53\n",
       "IGREJA UNIVERSAL DO REINO DE DEUS                          25\n",
       "MITRA ARQUIDIOCESANA DE FORTALEZA                          24\n",
       "ASSOC BRAS DA IGREJA DE JESUS CRISTO SANTOS ULTIS DIAS     21\n",
       "ASSOCIACAO BIBLICA E CULTURAL DE FORTALEZA                 19\n",
       "CONGREGACAO CRISTA NO BRASIL                               19\n",
       "ASSOC BRAS D A IGREJA DE JESUS CRISTO SANTOS ULTS DIAS     18\n",
       "UNIAO NORTE BRASILEIRA DA IGREJA ADVENTISTA DO 7 DIA       14\n",
       "IGREJA DO EVANGELHO QUADRANGULAR                           13\n",
       "ASSOCIACAO BIBLICA E CULTURAL NOVA ORDEM DE DEUS           11\n",
       "IGREJA EVANGELICA ASSEMB DE DEUS DE BELA VISTA             11\n",
       "PAROQUIA DE SAO VICENTE DE PAULO                           11\n",
       "IGREJA BETESDA DO CEARÁ                                    10\n",
       "Name: CONTRIBUINTE, dtype: int64"
      ]
     },
     "execution_count": 32,
     "metadata": {},
     "output_type": "execute_result"
    }
   ],
   "source": [
    "# 15 Contribuintes com mais CNPJs \n",
    "\n",
    "dataframe['CONTRIBUINTE'].value_counts().head(15)"
   ]
  },
  {
   "cell_type": "code",
   "execution_count": 33,
   "id": "4316a193",
   "metadata": {},
   "outputs": [
    {
     "data": {
      "text/plain": [
       "ASSOCIACAO CATOLICA DE EVANGELIZACAO MARIA PORTA DO CEU    1\n",
       "IGREJA BATISTA DE MONTESE                                  1\n",
       "SERVICO SOCIAL DO COMERCIO - SESC - AR.CE.                 1\n",
       "CONSELHO PAROQUIAL NOSSA SENHORA DE FATIMA                 1\n",
       "PROVINCIA DE FORTALEZA DA CONGREGACAO DA MISSAO            1\n",
       "ABIJCSUD                                                   1\n",
       "FUNDACAO BEZERRA DE MENEZES                                1\n",
       "LEGIAO ESPIRITA FEMININA                                   1\n",
       "CONGREGACAO DAS IRMAS DOS ANJOS                            1\n",
       "IGREJA AVIVAMENTO PENTECOSTAL DA BIBLIA                    1\n",
       "CASA DOS PADRES SACRAMENTINO                               1\n",
       "I IGREJA BATISTA EM SAO CRISTOVAO                          1\n",
       "IGREJA CRISTA MARANATA PRESBITERIO ESP SANTENSE            1\n",
       "CENTRO ESPIRITA A SAMARITANA                               1\n",
       "COLEGIO BATISTA SANTOS DUMONT                              1\n",
       "Name: CONTRIBUINTE, dtype: int64"
      ]
     },
     "execution_count": 33,
     "metadata": {},
     "output_type": "execute_result"
    }
   ],
   "source": [
    "dataframe['CONTRIBUINTE'].value_counts().tail(15)"
   ]
  },
  {
   "cell_type": "code",
   "execution_count": 34,
   "id": "0c52bb26",
   "metadata": {},
   "outputs": [
    {
     "data": {
      "text/plain": [
       "Centro             104\n",
       "Rodolfo Teófilo     46\n",
       "Benfica             38\n",
       "Messejana           22\n",
       "Parangaba           18\n",
       "Mondubim            18\n",
       "Aldeota             17\n",
       "Meireles            16\n",
       "José Bonifacio      16\n",
       "Jacarecanga         15\n",
       "Damas               13\n",
       "Jardim Iracema      13\n",
       "Montese             13\n",
       "Serrinha            12\n",
       "Vila Velha          12\n",
       "Name: bairro, dtype: int64"
      ]
     },
     "execution_count": 34,
     "metadata": {},
     "output_type": "execute_result"
    }
   ],
   "source": [
    "dataframe['bairro'].value_counts().head(15)"
   ]
  },
  {
   "cell_type": "code",
   "execution_count": null,
   "id": "2a4ec01b",
   "metadata": {},
   "outputs": [],
   "source": [
    "\n"
   ]
  },
  {
   "cell_type": "code",
   "execution_count": 35,
   "id": "b53ac7c9",
   "metadata": {},
   "outputs": [
    {
     "data": {
      "text/plain": [
       "174"
      ]
     },
     "execution_count": 35,
     "metadata": {},
     "output_type": "execute_result"
    }
   ],
   "source": [
    "dataframe.loc[dataframe.CONTRIBUINTE.str.contains('EVANGELICA')]['CONTRIBUINTE'].count()"
   ]
  },
  {
   "cell_type": "code",
   "execution_count": 36,
   "id": "b4e84d67",
   "metadata": {},
   "outputs": [
    {
     "data": {
      "text/plain": [
       "374"
      ]
     },
     "execution_count": 36,
     "metadata": {},
     "output_type": "execute_result"
    }
   ],
   "source": [
    "dataframe.loc[dataframe.CONTRIBUINTE.str.contains('IGREJA')]['CONTRIBUINTE'].count()"
   ]
  },
  {
   "cell_type": "code",
   "execution_count": 37,
   "id": "28c69eef",
   "metadata": {},
   "outputs": [
    {
     "data": {
      "text/plain": [
       "30"
      ]
     },
     "execution_count": 37,
     "metadata": {},
     "output_type": "execute_result"
    }
   ],
   "source": [
    "dataframe.loc[dataframe.CONTRIBUINTE.str.contains('ESPIRITA')]['CONTRIBUINTE'].count()"
   ]
  },
  {
   "cell_type": "code",
   "execution_count": 38,
   "id": "e69de51a",
   "metadata": {},
   "outputs": [
    {
     "data": {
      "text/plain": [
       "211                ASSOCIACAO LAR ESPIRITA MEIMEI\n",
       "232                  CENTRO ESPIRITA A SAMARITANA\n",
       "233     CENTRO ESPIRITA ANTONIO ALVES DE LINHARES\n",
       "234            CENTRO ESPIRITA BEZERRA DE MENEZES\n",
       "235            CENTRO ESPIRITA CAMILLE FLAMMARION\n",
       "236               CENTRO ESPIRITA CASA DO CAMINHO\n",
       "238               CENTRO ESPIRITA JESUS DE NAZARE\n",
       "239                  CENTRO ESPIRITA JOAO BATISTA\n",
       "240            CENTRO ESPIRITA JOAO O EVANGELISTA\n",
       "241             CENTRO ESPIRITA LAR DA DIVINA LUZ\n",
       "242              CENTRO ESPIRITA LAR DOS HUMILDES\n",
       "243     CENTRO ESPIRITA PEDRO O APOSTOLO DE JESUS\n",
       "371    FEDERACAO ESPIRITA DO ESTADO DO CEARA FEEC\n",
       "379                        GRUPO ESPIRITA AVE LUZ\n",
       "380                        GRUPO ESPIRITA AVE LUZ\n",
       "381           GRUPO ESPIRITA BEM-VINDO A CARIDADE\n",
       "381           GRUPO ESPIRITA BEM-VINDO A CARIDADE\n",
       "382        GRUPO ESPIRITA HORIZONTES DA VIDA-GEHV\n",
       "383                GRUPO ESPIRITA PAULO E ESTEVAO\n",
       "384                GRUPO ESPIRITA PAULO E ESTEVAO\n",
       "385                    GRUPO ESPIRITA RAIO DE SOL\n",
       "677                INSTITUICAO ESPIRITA NOSSO LAR\n",
       "678                INSTITUICAO ESPIRITA NOSSO LAR\n",
       "707                      LEGIAO ESPIRITA FEMININA\n",
       "785       SOCIEDADE ESPIRITA CARIDADE E ESPERANCA\n",
       "786    SOCIEDADE ESPIRITA IRMAO GERARDO - S.E.I.G\n",
       "788                       UNIAO ESPIRITA CEARENSE\n",
       "789                       UNIAO ESPIRITA CEARENSE\n",
       "790                       UNIAO ESPIRITA CEARENSE\n",
       "791                       UNIAO ESPIRITA CEARENSE\n",
       "Name: CONTRIBUINTE, dtype: object"
      ]
     },
     "execution_count": 38,
     "metadata": {},
     "output_type": "execute_result"
    }
   ],
   "source": [
    "dataframe.loc[dataframe.CONTRIBUINTE.str.contains('ESPIRITA')]['CONTRIBUINTE']"
   ]
  },
  {
   "cell_type": "code",
   "execution_count": 39,
   "id": "b5b67802",
   "metadata": {},
   "outputs": [
    {
     "data": {
      "text/plain": [
       "Series([], Name: CONTRIBUINTE, dtype: object)"
      ]
     },
     "execution_count": 39,
     "metadata": {},
     "output_type": "execute_result"
    }
   ],
   "source": [
    "dataframe.loc[dataframe.CONTRIBUINTE.str.contains('TERREIRO')]['CONTRIBUINTE']"
   ]
  },
  {
   "cell_type": "code",
   "execution_count": 40,
   "id": "4a673b52",
   "metadata": {},
   "outputs": [
    {
     "data": {
      "text/plain": [
       "Series([], Name: CONTRIBUINTE, dtype: object)"
      ]
     },
     "execution_count": 40,
     "metadata": {},
     "output_type": "execute_result"
    }
   ],
   "source": [
    "dataframe.loc[dataframe.CONTRIBUINTE.str.contains('UMBANDA')]['CONTRIBUINTE']"
   ]
  },
  {
   "cell_type": "code",
   "execution_count": null,
   "id": "d6bb30e4",
   "metadata": {},
   "outputs": [],
   "source": []
  },
  {
   "cell_type": "markdown",
   "id": "c9c85d7d",
   "metadata": {},
   "source": [
    "# Categorização"
   ]
  },
  {
   "cell_type": "code",
   "execution_count": 41,
   "id": "3ccba325",
   "metadata": {},
   "outputs": [
    {
     "data": {
      "text/plain": [
       "['Católica Apostólica Romana',\n",
       " 'Evangélicas de Missão',\n",
       " 'Evangélicas de origem pentecostal',\n",
       " 'Evangélicas Não determinada',\n",
       " 'Espírita',\n",
       " 'Umbanda e Candomblé',\n",
       " 'Sem Religião',\n",
       " 'Outras religiosidades',\n",
       " 'Não sabe/Não declarou']"
      ]
     },
     "execution_count": 41,
     "metadata": {},
     "output_type": "execute_result"
    }
   ],
   "source": [
    "doc_IBGE = ['Católica Apostólica Romana', 'Evangélicas de Missão', 'Evangélicas de origem pentecostal', 'Evangélicas Não determinada','Espírita', 'Umbanda e Candomblé', 'Sem Religião', 'Outras religiosidades', 'Não sabe/Não declarou']\n",
    "doc_IBGE"
   ]
  },
  {
   "cell_type": "code",
   "execution_count": 42,
   "id": "196e428c",
   "metadata": {},
   "outputs": [],
   "source": [
    "dataframe['CONTRIBUINTE'].value_counts().to_csv('resumo_contribuinte_value_counts.csv')"
   ]
  },
  {
   "cell_type": "code",
   "execution_count": 43,
   "id": "3c6e15c5",
   "metadata": {},
   "outputs": [
    {
     "data": {
      "text/plain": [
       "IGREJA EVANGELICA ASSEMBLEIA DE DEUS                    129\n",
       "ARQUIDIOCESE DE FORTALEZA                                78\n",
       "CONSELHO METR DE FORTALEZA DA SOC S VICENTE DE PAULO     53\n",
       "IGREJA UNIVERSAL DO REINO DE DEUS                        25\n",
       "MITRA ARQUIDIOCESANA DE FORTALEZA                        24\n",
       "                                                       ... \n",
       "CASA DOS PADRES SACRAMENTINO                              1\n",
       "I IGREJA BATISTA EM SAO CRISTOVAO                         1\n",
       "IGREJA CRISTA MARANATA PRESBITERIO ESP SANTENSE           1\n",
       "CENTRO ESPIRITA A SAMARITANA                              1\n",
       "COLEGIO BATISTA SANTOS DUMONT                             1\n",
       "Name: CONTRIBUINTE, Length: 256, dtype: int64"
      ]
     },
     "execution_count": 43,
     "metadata": {},
     "output_type": "execute_result"
    }
   ],
   "source": [
    "dataframe['CONTRIBUINTE'].value_counts()"
   ]
  },
  {
   "cell_type": "code",
   "execution_count": 44,
   "id": "307dc633",
   "metadata": {},
   "outputs": [
    {
     "data": {
      "text/plain": [
       "256"
      ]
     },
     "execution_count": 44,
     "metadata": {},
     "output_type": "execute_result"
    }
   ],
   "source": [
    "dataframe['CONTRIBUINTE'].value_counts().count()"
   ]
  },
  {
   "cell_type": "code",
   "execution_count": 45,
   "id": "249f94aa",
   "metadata": {},
   "outputs": [
    {
     "data": {
      "text/plain": [
       "0.7086330935251798"
      ]
     },
     "execution_count": 45,
     "metadata": {},
     "output_type": "execute_result"
    }
   ],
   "source": [
    "parcela = dataframe['CONTRIBUINTE'].value_counts(normalize = True).head(50).sum()\n",
    "parcela"
   ]
  },
  {
   "cell_type": "code",
   "execution_count": 46,
   "id": "727b5f10",
   "metadata": {},
   "outputs": [
    {
     "data": {
      "text/plain": [
       "590.9999999999999"
      ]
     },
     "execution_count": 46,
     "metadata": {},
     "output_type": "execute_result"
    }
   ],
   "source": [
    "dataframe['CONTRIBUINTE'].count() * (parcela)"
   ]
  },
  {
   "cell_type": "code",
   "execution_count": 47,
   "id": "8b81d39e",
   "metadata": {},
   "outputs": [
    {
     "data": {
      "text/plain": [
       "243.00000000000006"
      ]
     },
     "execution_count": 47,
     "metadata": {},
     "output_type": "execute_result"
    }
   ],
   "source": [
    "dataframe['CONTRIBUINTE'].count() * (1-parcela)"
   ]
  },
  {
   "cell_type": "code",
   "execution_count": 48,
   "id": "d1dcdced",
   "metadata": {},
   "outputs": [
    {
     "data": {
      "text/html": [
       "<div>\n",
       "<style scoped>\n",
       "    .dataframe tbody tr th:only-of-type {\n",
       "        vertical-align: middle;\n",
       "    }\n",
       "\n",
       "    .dataframe tbody tr th {\n",
       "        vertical-align: top;\n",
       "    }\n",
       "\n",
       "    .dataframe thead th {\n",
       "        text-align: right;\n",
       "    }\n",
       "</style>\n",
       "<table border=\"1\" class=\"dataframe\">\n",
       "  <thead>\n",
       "    <tr style=\"text-align: right;\">\n",
       "      <th></th>\n",
       "      <th>Nome</th>\n",
       "      <th>Qtd</th>\n",
       "    </tr>\n",
       "  </thead>\n",
       "  <tbody>\n",
       "    <tr>\n",
       "      <th>0</th>\n",
       "      <td>INSTITUTO MARIA IMACULADA</td>\n",
       "      <td>2</td>\n",
       "    </tr>\n",
       "    <tr>\n",
       "      <th>1</th>\n",
       "      <td>CONGREGACAO PENIEL DE FORTALEZA</td>\n",
       "      <td>2</td>\n",
       "    </tr>\n",
       "    <tr>\n",
       "      <th>2</th>\n",
       "      <td>ASSOCIACAO JESUS E MARIA</td>\n",
       "      <td>2</td>\n",
       "    </tr>\n",
       "    <tr>\n",
       "      <th>3</th>\n",
       "      <td>IGREJA BATISTA LUZ DO MUNDO</td>\n",
       "      <td>2</td>\n",
       "    </tr>\n",
       "    <tr>\n",
       "      <th>4</th>\n",
       "      <td>INSTITUTO HESED D IR E IRMAS DA S CRUZ BAV MA ...</td>\n",
       "      <td>2</td>\n",
       "    </tr>\n",
       "    <tr>\n",
       "      <th>...</th>\n",
       "      <td>...</td>\n",
       "      <td>...</td>\n",
       "    </tr>\n",
       "    <tr>\n",
       "      <th>201</th>\n",
       "      <td>CASA DOS PADRES SACRAMENTINO</td>\n",
       "      <td>1</td>\n",
       "    </tr>\n",
       "    <tr>\n",
       "      <th>202</th>\n",
       "      <td>I IGREJA BATISTA EM SAO CRISTOVAO</td>\n",
       "      <td>1</td>\n",
       "    </tr>\n",
       "    <tr>\n",
       "      <th>203</th>\n",
       "      <td>IGREJA CRISTA MARANATA PRESBITERIO ESP SANTENSE</td>\n",
       "      <td>1</td>\n",
       "    </tr>\n",
       "    <tr>\n",
       "      <th>204</th>\n",
       "      <td>CENTRO ESPIRITA A SAMARITANA</td>\n",
       "      <td>1</td>\n",
       "    </tr>\n",
       "    <tr>\n",
       "      <th>205</th>\n",
       "      <td>COLEGIO BATISTA SANTOS DUMONT</td>\n",
       "      <td>1</td>\n",
       "    </tr>\n",
       "  </tbody>\n",
       "</table>\n",
       "<p>206 rows × 2 columns</p>\n",
       "</div>"
      ],
      "text/plain": [
       "                                                  Nome  Qtd\n",
       "0                            INSTITUTO MARIA IMACULADA    2\n",
       "1                      CONGREGACAO PENIEL DE FORTALEZA    2\n",
       "2                             ASSOCIACAO JESUS E MARIA    2\n",
       "3                          IGREJA BATISTA LUZ DO MUNDO    2\n",
       "4    INSTITUTO HESED D IR E IRMAS DA S CRUZ BAV MA ...    2\n",
       "..                                                 ...  ...\n",
       "201                       CASA DOS PADRES SACRAMENTINO    1\n",
       "202                  I IGREJA BATISTA EM SAO CRISTOVAO    1\n",
       "203    IGREJA CRISTA MARANATA PRESBITERIO ESP SANTENSE    1\n",
       "204                       CENTRO ESPIRITA A SAMARITANA    1\n",
       "205                      COLEGIO BATISTA SANTOS DUMONT    1\n",
       "\n",
       "[206 rows x 2 columns]"
      ]
     },
     "execution_count": 48,
     "metadata": {},
     "output_type": "execute_result"
    }
   ],
   "source": [
    "resumo_tail = dataframe['CONTRIBUINTE'].value_counts().tail(206).reset_index()\n",
    "resumo_tail.columns = ['Nome', 'Qtd']\n",
    "resumo_tail"
   ]
  },
  {
   "cell_type": "code",
   "execution_count": 49,
   "id": "1752130d",
   "metadata": {},
   "outputs": [
    {
     "data": {
      "text/html": [
       "<div>\n",
       "<style scoped>\n",
       "    .dataframe tbody tr th:only-of-type {\n",
       "        vertical-align: middle;\n",
       "    }\n",
       "\n",
       "    .dataframe tbody tr th {\n",
       "        vertical-align: top;\n",
       "    }\n",
       "\n",
       "    .dataframe thead th {\n",
       "        text-align: right;\n",
       "    }\n",
       "</style>\n",
       "<table border=\"1\" class=\"dataframe\">\n",
       "  <thead>\n",
       "    <tr style=\"text-align: right;\">\n",
       "      <th></th>\n",
       "      <th>Nome</th>\n",
       "      <th>Qtd</th>\n",
       "    </tr>\n",
       "  </thead>\n",
       "  <tbody>\n",
       "    <tr>\n",
       "      <th>5</th>\n",
       "      <td>MISSIONARIAS DE SANTA TEREZINHA</td>\n",
       "      <td>2</td>\n",
       "    </tr>\n",
       "  </tbody>\n",
       "</table>\n",
       "</div>"
      ],
      "text/plain": [
       "                              Nome  Qtd\n",
       "5  MISSIONARIAS DE SANTA TEREZINHA    2"
      ]
     },
     "execution_count": 49,
     "metadata": {},
     "output_type": "execute_result"
    }
   ],
   "source": [
    "resumo_tail.loc[resumo_tail.Nome == 'MISSIONARIAS DE SANTA TEREZINHA']"
   ]
  },
  {
   "cell_type": "code",
   "execution_count": null,
   "id": "abc0d95b",
   "metadata": {},
   "outputs": [],
   "source": []
  },
  {
   "cell_type": "code",
   "execution_count": 50,
   "id": "04f5ade9",
   "metadata": {},
   "outputs": [],
   "source": [
    "texto = ' '.join(resumo_tail['Nome'].to_list())"
   ]
  },
  {
   "cell_type": "code",
   "execution_count": 51,
   "id": "2c10c8db",
   "metadata": {},
   "outputs": [
    {
     "data": {
      "text/plain": [
       "DE               87\n",
       "IGREJA           75\n",
       "BATISTA          30\n",
       "DO               29\n",
       "DA               25\n",
       "ESPIRITA         22\n",
       "ASSOCIACAO       19\n",
       "E                18\n",
       "EVANGELICA       18\n",
       "CENTRO           17\n",
       "DAS              15\n",
       "DOS              14\n",
       "CONGREGACAO      12\n",
       "BRASIL           12\n",
       "FORTALEZA        12\n",
       "MARIA            11\n",
       "JESUS            11\n",
       "DEUS             11\n",
       "PRESBITERIANA     9\n",
       "CRISTA            8\n",
       "SANTA             8\n",
       "INSTITUTO         8\n",
       "SAO               7\n",
       "BIBLICA           7\n",
       "COMUNIDADE        6\n",
       "CRISTO            6\n",
       "IRMAS             6\n",
       "GRUPO             6\n",
       "ASSEMBLEIA        6\n",
       "NOSSA             5\n",
       "dtype: int64"
      ]
     },
     "execution_count": 51,
     "metadata": {},
     "output_type": "execute_result"
    }
   ],
   "source": [
    "pd.Series(texto.split()).value_counts().head(30)"
   ]
  },
  {
   "cell_type": "code",
   "execution_count": 52,
   "id": "e8402e2e",
   "metadata": {},
   "outputs": [],
   "source": [
    "def listOf(termo):\n",
    "    lista = resumo_tail.loc[resumo_tail.Nome.str.contains(termo)]['Nome'].to_list()\n",
    "    qtd = resumo_tail.loc[resumo_tail.Nome.str.contains(termo)]['Qtd'].sum()\n",
    "    print(f'{termo} - {len(lista)} itens no resumo \\ {qtd} do total')\n",
    "    return lista"
   ]
  },
  {
   "cell_type": "code",
   "execution_count": 53,
   "id": "56faded0",
   "metadata": {},
   "outputs": [
    {
     "name": "stdout",
     "output_type": "stream",
     "text": [
      "BATISTA - 30 itens no resumo \\ 34 do total\n"
     ]
    },
    {
     "data": {
      "text/plain": [
       "['IGREJA BATISTA LUZ DO MUNDO',\n",
       " 'IGREJA BATISTA AGAPE',\n",
       " 'IGREJA BATISTA REGULAR FILADELFIA',\n",
       " 'IGREJA BATISTA DA FE',\n",
       " 'IGREJA BATISTA DE MUCURIPE',\n",
       " 'PRIMEIRA IGREJA BATISTA EM JANGURUSSU',\n",
       " 'IGREJA BATISTA CENTRAL DE FORTALEZA',\n",
       " 'IGREJA BATISTA RESTAURACAO',\n",
       " 'IGREJA BATISTA MARANATA DE FORTALEZA',\n",
       " 'IGREJA BATISTA ESPERANCA',\n",
       " 'IGREJA BATISTA EMANUEL',\n",
       " 'IGREJA BATISTA INDEPENDENTE',\n",
       " 'IGREJA BATISTA MEMORIAL DE FORTALEZA',\n",
       " 'IGREJA BATISTA RIO JORDAO',\n",
       " 'IGREJA BATISTA BEREIANA',\n",
       " 'MISSAO BATISTA CONSERVADORA DO BRASIL',\n",
       " 'IGREJA BIBLICA BATISTA DO PLANALTO',\n",
       " 'IGREJA BATISTA DO CALVARIO DE FORTALEZA',\n",
       " 'IGREJA BATISTA REGULAR JORDAO',\n",
       " 'SEMINARIO TEOLOGICO BATISTA DO CEARA',\n",
       " 'CENTRO ESPIRITA JOAO BATISTA',\n",
       " 'IGREJA BATISTA MANANCIAL',\n",
       " 'IGREJA BATISTA DO CORDEIRO',\n",
       " 'IGREJA BATISTA DE MONTE CASTELO',\n",
       " 'IGREJA BATISTA EL SHADAI',\n",
       " 'IGREJA BATISTA DE PORANGABUCU',\n",
       " 'PRIMEIRA IGREJA BATISTA EM JOSE WALTER',\n",
       " 'IGREJA BATISTA DE MONTESE',\n",
       " 'I IGREJA BATISTA EM SAO CRISTOVAO',\n",
       " 'COLEGIO BATISTA SANTOS DUMONT']"
      ]
     },
     "execution_count": 53,
     "metadata": {},
     "output_type": "execute_result"
    }
   ],
   "source": [
    "listOf(\"BATISTA\")"
   ]
  },
  {
   "cell_type": "code",
   "execution_count": null,
   "id": "d8f55298",
   "metadata": {},
   "outputs": [],
   "source": []
  },
  {
   "cell_type": "code",
   "execution_count": null,
   "id": "a3a44e1c",
   "metadata": {},
   "outputs": [],
   "source": []
  },
  {
   "cell_type": "code",
   "execution_count": 54,
   "id": "9997eac9",
   "metadata": {},
   "outputs": [
    {
     "name": "stdout",
     "output_type": "stream",
     "text": [
      "ESPIRITA - 22 itens no resumo \\ 26 do total\n"
     ]
    },
    {
     "data": {
      "text/plain": [
       "['GRUPO ESPIRITA BEM-VINDO A CARIDADE',\n",
       " 'GRUPO ESPIRITA AVE LUZ',\n",
       " 'GRUPO ESPIRITA PAULO E ESTEVAO',\n",
       " 'INSTITUICAO ESPIRITA NOSSO LAR',\n",
       " 'CENTRO ESPIRITA CASA DO CAMINHO',\n",
       " 'ASSOCIACAO LAR ESPIRITA MEIMEI',\n",
       " 'CENTRO ESPIRITA LAR DOS HUMILDES',\n",
       " 'CENTRO ESPIRITA PEDRO O APOSTOLO DE JESUS',\n",
       " 'CENTRO ESPIRITA JOAO O EVANGELISTA',\n",
       " 'CENTRO ESPIRITA JESUS DE NAZARE',\n",
       " 'GRUPO ESPIRITA HORIZONTES DA VIDA-GEHV',\n",
       " 'CENTRO ESPIRITA ANTONIO ALVES DE LINHARES',\n",
       " 'SOCIEDADE ESPIRITA IRMAO GERARDO - S.E.I.G',\n",
       " 'CENTRO ESPIRITA JOAO BATISTA',\n",
       " 'SOCIEDADE ESPIRITA CARIDADE E ESPERANCA',\n",
       " 'FEDERACAO ESPIRITA DO ESTADO DO CEARA FEEC',\n",
       " 'GRUPO ESPIRITA RAIO DE SOL',\n",
       " 'CENTRO ESPIRITA LAR DA DIVINA LUZ',\n",
       " 'CENTRO ESPIRITA CAMILLE FLAMMARION',\n",
       " 'CENTRO ESPIRITA BEZERRA DE MENEZES',\n",
       " 'LEGIAO ESPIRITA FEMININA',\n",
       " 'CENTRO ESPIRITA A SAMARITANA']"
      ]
     },
     "execution_count": 54,
     "metadata": {},
     "output_type": "execute_result"
    }
   ],
   "source": [
    "listOf(\"ESPIRITA\")"
   ]
  },
  {
   "cell_type": "code",
   "execution_count": 55,
   "id": "3a53a2b6",
   "metadata": {},
   "outputs": [
    {
     "name": "stdout",
     "output_type": "stream",
     "text": [
      "PRESBITERIANA - 9 itens no resumo \\ 11 do total\n"
     ]
    },
    {
     "data": {
      "text/plain": [
       "['IGREJA PRESBITERIANA DE FORTALEZA',\n",
       " 'IGREJA PRESBITERIANA DE MONTE CASTELO',\n",
       " 'IGREJA PRESBITERIANA DO CONJ J. WALTER',\n",
       " 'IGREJA PRESBITERIANA DA AEROLANDIA',\n",
       " 'IGREJA PRESBITERIANA DE MARAPONGA',\n",
       " 'IGREJA PRESBITERIANA DO BRASIL EM JARDIM AMERICA IPBJA',\n",
       " 'IGREJA PRESBITERIANA INDEP DE HEN JORGE',\n",
       " 'IGREJA PRESBITERIANA DA ALDEOTA',\n",
       " 'IGREJA PRESBITERIANA NOVA JERUSALEM']"
      ]
     },
     "execution_count": 55,
     "metadata": {},
     "output_type": "execute_result"
    }
   ],
   "source": [
    "listOf('PRESBITERIANA')"
   ]
  },
  {
   "cell_type": "code",
   "execution_count": 56,
   "id": "1fcc1762",
   "metadata": {},
   "outputs": [],
   "source": [
    "# listOf('PENTECOSTAL')"
   ]
  },
  {
   "cell_type": "code",
   "execution_count": 57,
   "id": "4d9eee74",
   "metadata": {},
   "outputs": [
    {
     "name": "stdout",
     "output_type": "stream",
     "text": [
      "CONGREGACAO - 12 itens no resumo \\ 14 do total\n"
     ]
    },
    {
     "data": {
      "text/plain": [
       "['CONGREGACAO PENIEL DE FORTALEZA',\n",
       " 'CONGREGACAO REDENTORISTA DO NORTE DO BRASIL',\n",
       " 'CONGREGACAO FILHAS DE SANTA ANA',\n",
       " 'CONGREGACAO DAS IRMAS DE SANTA ELISABETE',\n",
       " 'CONGREGACAO DAS IRMAS MISSIONARIAS DA IMACULADA CONCEICAO',\n",
       " 'CONGREGACAO EVANGELICA LUTERANA ESPERANNCA',\n",
       " 'CONGREGACAO DAS IRMANZINHAS DA IMACULADA CONCEICAO',\n",
       " 'ASSOCIACAO CONGREGACAO DE SANTA CATARINA',\n",
       " 'CONGREGACAO DAS FILHAS DE SANTA TERESA DE JESUS',\n",
       " 'CONGREGACAO DAS MISSIONARIAS REPARADORAS DO C DE JESUS',\n",
       " 'PROVINCIA DE FORTALEZA DA CONGREGACAO DA MISSAO',\n",
       " 'CONGREGACAO DAS IRMAS DOS ANJOS']"
      ]
     },
     "execution_count": 57,
     "metadata": {},
     "output_type": "execute_result"
    }
   ],
   "source": [
    "listOf('CONGREGACAO')"
   ]
  },
  {
   "cell_type": "code",
   "execution_count": null,
   "id": "49dd0d92",
   "metadata": {},
   "outputs": [],
   "source": []
  },
  {
   "cell_type": "code",
   "execution_count": 58,
   "id": "004f389b",
   "metadata": {},
   "outputs": [
    {
     "data": {
      "text/html": [
       "<div>\n",
       "<style scoped>\n",
       "    .dataframe tbody tr th:only-of-type {\n",
       "        vertical-align: middle;\n",
       "    }\n",
       "\n",
       "    .dataframe tbody tr th {\n",
       "        vertical-align: top;\n",
       "    }\n",
       "\n",
       "    .dataframe thead th {\n",
       "        text-align: right;\n",
       "    }\n",
       "</style>\n",
       "<table border=\"1\" class=\"dataframe\">\n",
       "  <thead>\n",
       "    <tr style=\"text-align: right;\">\n",
       "      <th></th>\n",
       "      <th>Nome</th>\n",
       "      <th>Qtd</th>\n",
       "    </tr>\n",
       "  </thead>\n",
       "  <tbody>\n",
       "    <tr>\n",
       "      <th>0</th>\n",
       "      <td>INSTITUTO MARIA IMACULADA</td>\n",
       "      <td>2</td>\n",
       "    </tr>\n",
       "    <tr>\n",
       "      <th>2</th>\n",
       "      <td>ASSOCIACAO JESUS E MARIA</td>\n",
       "      <td>2</td>\n",
       "    </tr>\n",
       "    <tr>\n",
       "      <th>4</th>\n",
       "      <td>INSTITUTO HESED D IR E IRMAS DA S CRUZ BAV MA ...</td>\n",
       "      <td>2</td>\n",
       "    </tr>\n",
       "    <tr>\n",
       "      <th>5</th>\n",
       "      <td>MISSIONARIAS DE SANTA TEREZINHA</td>\n",
       "      <td>2</td>\n",
       "    </tr>\n",
       "    <tr>\n",
       "      <th>6</th>\n",
       "      <td>SEMINARIO E INSTITUTO BIBLICO MARANATA</td>\n",
       "      <td>2</td>\n",
       "    </tr>\n",
       "    <tr>\n",
       "      <th>...</th>\n",
       "      <td>...</td>\n",
       "      <td>...</td>\n",
       "    </tr>\n",
       "    <tr>\n",
       "      <th>196</th>\n",
       "      <td>ABIJCSUD</td>\n",
       "      <td>1</td>\n",
       "    </tr>\n",
       "    <tr>\n",
       "      <th>197</th>\n",
       "      <td>FUNDACAO BEZERRA DE MENEZES</td>\n",
       "      <td>1</td>\n",
       "    </tr>\n",
       "    <tr>\n",
       "      <th>200</th>\n",
       "      <td>IGREJA AVIVAMENTO PENTECOSTAL DA BIBLIA</td>\n",
       "      <td>1</td>\n",
       "    </tr>\n",
       "    <tr>\n",
       "      <th>201</th>\n",
       "      <td>CASA DOS PADRES SACRAMENTINO</td>\n",
       "      <td>1</td>\n",
       "    </tr>\n",
       "    <tr>\n",
       "      <th>203</th>\n",
       "      <td>IGREJA CRISTA MARANATA PRESBITERIO ESP SANTENSE</td>\n",
       "      <td>1</td>\n",
       "    </tr>\n",
       "  </tbody>\n",
       "</table>\n",
       "<p>134 rows × 2 columns</p>\n",
       "</div>"
      ],
      "text/plain": [
       "                                                  Nome  Qtd\n",
       "0                            INSTITUTO MARIA IMACULADA    2\n",
       "2                             ASSOCIACAO JESUS E MARIA    2\n",
       "4    INSTITUTO HESED D IR E IRMAS DA S CRUZ BAV MA ...    2\n",
       "5                      MISSIONARIAS DE SANTA TEREZINHA    2\n",
       "6               SEMINARIO E INSTITUTO BIBLICO MARANATA    2\n",
       "..                                                 ...  ...\n",
       "196                                           ABIJCSUD    1\n",
       "197                        FUNDACAO BEZERRA DE MENEZES    1\n",
       "200            IGREJA AVIVAMENTO PENTECOSTAL DA BIBLIA    1\n",
       "201                       CASA DOS PADRES SACRAMENTINO    1\n",
       "203    IGREJA CRISTA MARANATA PRESBITERIO ESP SANTENSE    1\n",
       "\n",
       "[134 rows x 2 columns]"
      ]
     },
     "execution_count": 58,
     "metadata": {},
     "output_type": "execute_result"
    }
   ],
   "source": [
    "n_agrupadas = resumo_tail.loc[(~resumo_tail.Nome.str.contains('BATISTA')) & (~resumo_tail.Nome.str.contains('ESPIRITA')) & (~resumo_tail.Nome.str.contains('PRESBITERIANA')) & (~resumo_tail.Nome.str.contains('CONGREGACAO'))]\n",
    "n_agrupadas.to_csv('sem_grupo.csv')\n",
    "n_agrupadas"
   ]
  },
  {
   "cell_type": "code",
   "execution_count": 59,
   "id": "2bf5d958",
   "metadata": {},
   "outputs": [
    {
     "data": {
      "text/html": [
       "<div>\n",
       "<style scoped>\n",
       "    .dataframe tbody tr th:only-of-type {\n",
       "        vertical-align: middle;\n",
       "    }\n",
       "\n",
       "    .dataframe tbody tr th {\n",
       "        vertical-align: top;\n",
       "    }\n",
       "\n",
       "    .dataframe thead th {\n",
       "        text-align: right;\n",
       "    }\n",
       "</style>\n",
       "<table border=\"1\" class=\"dataframe\">\n",
       "  <thead>\n",
       "    <tr style=\"text-align: right;\">\n",
       "      <th></th>\n",
       "      <th>Nome</th>\n",
       "      <th>Qtd</th>\n",
       "    </tr>\n",
       "  </thead>\n",
       "  <tbody>\n",
       "    <tr>\n",
       "      <th>10</th>\n",
       "      <td>INSTITUTO DAS FILHAS DE SANT'ANA-NORTE - INFISA-N</td>\n",
       "      <td>2</td>\n",
       "    </tr>\n",
       "  </tbody>\n",
       "</table>\n",
       "</div>"
      ],
      "text/plain": [
       "                                                 Nome  Qtd\n",
       "10  INSTITUTO DAS FILHAS DE SANT'ANA-NORTE - INFISA-N    2"
      ]
     },
     "execution_count": 59,
     "metadata": {},
     "output_type": "execute_result"
    }
   ],
   "source": [
    "n_agrupadas.loc[n_agrupadas.Nome == \"INSTITUTO DAS FILHAS DE SANT'ANA-NORTE - INFISA-N\"]"
   ]
  },
  {
   "cell_type": "code",
   "execution_count": 60,
   "id": "40b2ae33",
   "metadata": {},
   "outputs": [],
   "source": [
    "resumo_tail.loc[resumo_tail.Nome.str.contains('BATISTA')].to_csv('batista.csv')\n",
    "resumo_tail.loc[resumo_tail.Nome.str.contains('ESPIRITA')].to_csv('espirita.csv')\n",
    "resumo_tail.loc[resumo_tail.Nome.str.contains('PRESBITERIANA')].to_csv('presbiteriana.csv')\n",
    "resumo_tail.loc[resumo_tail.Nome.str.contains('CONGREGACAO')].to_csv('congregacao.csv')\n",
    "# & (~resumo_tail.Nome.str.contains('ESPIRITA')) \n",
    "# & (~resumo_tail.Nome.str.contains('PRESBITERIANA')) \n",
    "# & (~resumo_tail.Nome.str.contains('CONGREGACAO'))"
   ]
  },
  {
   "cell_type": "code",
   "execution_count": null,
   "id": "bca3d115",
   "metadata": {},
   "outputs": [],
   "source": []
  },
  {
   "cell_type": "code",
   "execution_count": null,
   "id": "80e11edd",
   "metadata": {},
   "outputs": [],
   "source": []
  }
 ],
 "metadata": {
  "kernelspec": {
   "display_name": "Python 3",
   "language": "python",
   "name": "python3"
  },
  "language_info": {
   "codemirror_mode": {
    "name": "ipython",
    "version": 3
   },
   "file_extension": ".py",
   "mimetype": "text/x-python",
   "name": "python",
   "nbconvert_exporter": "python",
   "pygments_lexer": "ipython3",
   "version": "3.7.10"
  }
 },
 "nbformat": 4,
 "nbformat_minor": 5
}
